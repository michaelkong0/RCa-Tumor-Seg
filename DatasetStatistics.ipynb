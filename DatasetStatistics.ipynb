{
 "cells": [
  {
   "cell_type": "code",
   "execution_count": 1,
   "metadata": {},
   "outputs": [
    {
     "name": "stdout",
     "output_type": "stream",
     "text": [
      "G:\\Shared drives\\INVent\\mfk58\\Dataset\n",
      " Volume in drive G is Google Drive\n",
      " Volume Serial Number is 1983-1116\n",
      "\n",
      " Directory of G:\\Shared drives\\INVent\\mfk58\\Dataset\n",
      "\n",
      "05/30/2023  03:50 PM    <DIR>          .\n",
      "05/31/2023  04:08 PM    <DIR>          ..\n",
      "05/30/2023  03:50 PM    <DIR>          CCF_Pre_Resampled\n",
      "05/30/2023  03:53 PM    <DIR>          UH_Pre_Resampled\n",
      "               0 File(s)              0 bytes\n",
      "               4 Dir(s)  312,345,845,760 bytes free\n"
     ]
    }
   ],
   "source": [
    "%cd  G:\\Shared drives\\INVent\\mfk58\\Dataset\\\n",
    "\n",
    "#ensure file directory is correct\n",
    "\n",
    "%ls "
   ]
  },
  {
   "cell_type": "code",
   "execution_count": 2,
   "metadata": {},
   "outputs": [
    {
     "name": "stdout",
     "output_type": "stream",
     "text": [
      "Requirement already satisfied: Pillow in c:\\users\\theev\\appdata\\local\\programs\\python\\python310\\lib\\site-packages (9.5.0)\n",
      "Note: you may need to restart the kernel to use updated packages.\n"
     ]
    },
    {
     "name": "stderr",
     "output_type": "stream",
     "text": [
      "WARNING: You are using pip version 21.2.4; however, version 23.1.2 is available.\n",
      "You should consider upgrading via the 'c:\\Users\\theev\\AppData\\Local\\Programs\\Python\\Python310\\python.exe -m pip install --upgrade pip' command.\n",
      "WARNING: You are using pip version 21.2.4; however, version 23.1.2 is available.\n",
      "You should consider upgrading via the 'c:\\Users\\theev\\AppData\\Local\\Programs\\Python\\Python310\\python.exe -m pip install --upgrade pip' command.\n"
     ]
    },
    {
     "name": "stdout",
     "output_type": "stream",
     "text": [
      "Requirement already satisfied: numpy in c:\\users\\theev\\appdata\\local\\programs\\python\\python310\\lib\\site-packages (1.24.3)\n",
      "Note: you may need to restart the kernel to use updated packages.\n"
     ]
    }
   ],
   "source": [
    "%pip install Pillow\n",
    "%pip install numpy\n",
    "import glob\n",
    "#import numpy\n",
    "\n",
    "import SimpleITK as sitk"
   ]
  },
  {
   "cell_type": "code",
   "execution_count": 25,
   "metadata": {},
   "outputs": [
    {
     "name": "stdout",
     "output_type": "stream",
     "text": [
      "Total CCF: 66\n",
      "Missing masks for CCF:[]\n",
      "Total UH: 99\n",
      "Missing masks for UH:[]\n",
      "Total: 165\n",
      "Expected: 165\n"
     ]
    }
   ],
   "source": [
    "\n",
    "\n",
    "#check some basic sanity check information to see if the masks are the same\n",
    "def hasMask(name):\n",
    "    files = glob.glob(name+\"/*.mha\")\n",
    "\n",
    "    reader = sitk.ImageFileReader()\n",
    "\n",
    "    if(len(files)<2):\n",
    "        return False\n",
    "\n",
    "    reader.SetFileName(files[0])\n",
    "    reader.LoadPrivateTagsOn()\n",
    "    reader.ReadImageInformation()\n",
    "\n",
    "    size1 = reader.GetSize()  \n",
    "    res1 = reader.GetSpacing() \n",
    "\n",
    "    \n",
    "    reader.SetFileName(files[1])\n",
    "    reader.LoadPrivateTagsOn()\n",
    "    reader.ReadImageInformation()\n",
    "\n",
    "    size2 = reader.GetSize()  \n",
    "    res2 = reader.GetSpacing()\n",
    "    \n",
    "    if not (size1 == size2 and res2 == res2):\n",
    "        return False\n",
    "\n",
    "\n",
    "    return True\n",
    "\n",
    "\n",
    "def axial(name):\n",
    "    files = glob.glob(name+\"/*.mha\")\n",
    "    if(\"ax\" in files[0] and \"ax\" in files[1]):\n",
    "        return True\n",
    "    return False\n",
    "\n",
    "\n",
    "\n",
    "CCF_count = 0\n",
    "\n",
    "CCF_missing = [] #missing masks\n",
    "CCF_list = []\n",
    "\n",
    "for name in glob.glob('G:/Shared drives/INVent/mfk58/Dataset/CCF_Pre_Resampled/*'):\n",
    "    \n",
    "    if not (hasMask(name)):\n",
    "        CCF_missing.append(name)\n",
    "        continue\n",
    "    if axial(name):\n",
    "        CCF_count +=1\n",
    "        CCF_list.append(name)\n",
    "    \n",
    "\n",
    "print(\"Total CCF: \" + str(CCF_count))\n",
    "print(\"Missing masks for CCF:\" + str(CCF_missing))\n",
    "\n",
    "\n",
    "\n",
    "\n",
    "UH_count = 0\n",
    "\n",
    "UH_missing = [] #missing masks\n",
    "UH_list = []\n",
    "\n",
    "for name in glob.glob('G:/Shared drives/INVent/mfk58/Dataset/UH_Pre_Resampled/*'):\n",
    "    \n",
    "\n",
    "    if not (hasMask(name)):\n",
    "        UH_missing.append(name)\n",
    "        continue\n",
    "    if axial(name):\n",
    "        UH_count +=1\n",
    "        UH_list.append(name)\n",
    "\n",
    "    \n",
    "\n",
    "print(\"Total UH: \" + str(UH_count))\n",
    "print(\"Missing masks for UH:\" + str(UH_missing))\n",
    "\n",
    "print(\"Total: \" +str(UH_count+CCF_count))\n",
    "print(\"Expected: 165\")\n"
   ]
  },
  {
   "attachments": {},
   "cell_type": "markdown",
   "metadata": {},
   "source": [
    "Calculating the greater statistics"
   ]
  },
  {
   "cell_type": "code",
   "execution_count": 4,
   "metadata": {},
   "outputs": [
    {
     "name": "stdout",
     "output_type": "stream",
     "text": [
      "Requirement already satisfied: pandas in c:\\users\\theev\\appdata\\local\\programs\\python\\python310\\lib\\site-packages (2.0.2)\n",
      "Requirement already satisfied: numpy>=1.21.0 in c:\\users\\theev\\appdata\\local\\programs\\python\\python310\\lib\\site-packages (from pandas) (1.24.3)\n",
      "Requirement already satisfied: pytz>=2020.1 in c:\\users\\theev\\appdata\\local\\programs\\python\\python310\\lib\\site-packages (from pandas) (2023.3)\n",
      "Requirement already satisfied: python-dateutil>=2.8.2 in c:\\users\\theev\\appdata\\roaming\\python\\python310\\site-packages (from pandas) (2.8.2)\n",
      "Requirement already satisfied: tzdata>=2022.1 in c:\\users\\theev\\appdata\\local\\programs\\python\\python310\\lib\\site-packages (from pandas) (2023.3)\n",
      "Requirement already satisfied: six>=1.5 in c:\\users\\theev\\appdata\\roaming\\python\\python310\\site-packages (from python-dateutil>=2.8.2->pandas) (1.16.0)\n",
      "Note: you may need to restart the kernel to use updated packages.\n"
     ]
    },
    {
     "name": "stderr",
     "output_type": "stream",
     "text": [
      "WARNING: You are using pip version 21.2.4; however, version 23.1.2 is available.\n",
      "You should consider upgrading via the 'c:\\Users\\theev\\AppData\\Local\\Programs\\Python\\Python310\\python.exe -m pip install --upgrade pip' command.\n"
     ]
    },
    {
     "name": "stdout",
     "output_type": "stream",
     "text": [
      "Requirement already satisfied: openpyxl in c:\\users\\theev\\appdata\\local\\programs\\python\\python310\\lib\\site-packages (3.1.2)\n",
      "Requirement already satisfied: et-xmlfile in c:\\users\\theev\\appdata\\local\\programs\\python\\python310\\lib\\site-packages (from openpyxl) (1.1.0)\n",
      "Note: you may need to restart the kernel to use updated packages.\n"
     ]
    },
    {
     "name": "stderr",
     "output_type": "stream",
     "text": [
      "WARNING: You are using pip version 21.2.4; however, version 23.1.2 is available.\n",
      "You should consider upgrading via the 'c:\\Users\\theev\\AppData\\Local\\Programs\\Python\\Python310\\python.exe -m pip install --upgrade pip' command.\n"
     ]
    }
   ],
   "source": [
    "%pip install pandas\n",
    "%pip install openpyxl"
   ]
  },
  {
   "cell_type": "code",
   "execution_count": 5,
   "metadata": {},
   "outputs": [
    {
     "name": "stdout",
     "output_type": "stream",
     "text": [
      "Files that are not in the splitting list\n"
     ]
    }
   ],
   "source": [
    "import pandas as pd\n",
    "import numpy as np\n",
    "\n",
    "split = pd.read_excel(r'G:\\Shared drives\\INVent\\mfk58\\Dataset-split.xlsx')\n",
    "split = split.to_numpy();\n",
    "#print(split[[1,2]])\n",
    "\n",
    "\n",
    "\n",
    "names = UH_list\n",
    "adjusted = []\n",
    "for end in names:\n",
    "    end = \"UH_\" + end.rsplit(\"\\\\\",1)[-1] + \"_pre_ax_raw_resampled\"\n",
    "    adjusted.append(end)\n",
    "\n",
    "names = CCF_list\n",
    "for end in names:\n",
    "    end = \"CCF_\" + end.rsplit(\"\\\\\",1)[-1] + \"_pre_ax_raw_resampled\"\n",
    "    adjusted.append(end)\n",
    "\n",
    "\n",
    "#these files do not match the general naming scheme, but they are present\n",
    "adjusted = list(map(lambda x: x.replace(\"CCF_RectalCA_011_pre_ax_raw_resampled\", \"CCF_RectalCA_011_pre_ax_resampled\"), adjusted))\n",
    "adjusted = list(map(lambda x: x.replace(\"CCF_RectalCA_060_pre_ax_raw_resampled\", \"CCF_RectalCA_060_pre_ax_resampled\"), adjusted))\n",
    "\n",
    "print(\"Files that are not in the splitting list\")\n",
    "for name in adjusted:\n",
    "    if not(np.isin(name,split)):\n",
    "        print(name)\n"
   ]
  },
  {
   "cell_type": "code",
   "execution_count": 6,
   "metadata": {},
   "outputs": [
    {
     "name": "stdout",
     "output_type": "stream",
     "text": [
      "Validation set CCF: 47\n",
      "Validation set UH: 67\n",
      "Training set CCF: 19\n",
      "Training set UH: 32\n"
     ]
    }
   ],
   "source": [
    "\n",
    "x = split[:,[0,2]].flatten()\n",
    "x = np.append(x, split[0:10,3])\n",
    "x.sort()\n",
    "#print(x)\n",
    "\n",
    "count = 0\n",
    "for name in x:\n",
    "\n",
    "    if name.split('_',1)[0] == \"UH\":\n",
    "        break\n",
    "    count += 1\n",
    "    \n",
    "print(\"Validation set CCF: \" + str(count))\n",
    "print(\"Validation set UH: \" + str(len(x)-count))\n",
    "\n",
    "print(\"Training set CCF: \" + str(CCF_count-count))\n",
    "print(\"Training set UH: \" + str(UH_count-len(x)+count))\n",
    "\n",
    "\n"
   ]
  },
  {
   "cell_type": "code",
   "execution_count": null,
   "metadata": {},
   "outputs": [],
   "source": [
    "\n",
    "\n",
    "\"\"\"\n",
    "###THIS IS A REALLY TERRIBLE IMPLEMENTATION - extremely inefficient\n",
    "comList = CCF_list + UH_list\n",
    "#print(comList)\n",
    "\n",
    "\n",
    "maxWidth = 0\n",
    "madDepth = 0\n",
    "maxHeight = 0\n",
    "maxVol = 0\n",
    "\n",
    "for name in comList:\n",
    "    files = glob.glob(name+\"/*\")\n",
    "    f1 = sitk.ReadImage(files[0], imageIO=\"MetaImageIO\")\n",
    "    f2 = sitk.ReadImage(files[1], imageIO=\"MetaImageIO\")\n",
    "\n",
    "    w1 = f1.GetWidth()\n",
    "    w2 = f2.GetWidth()\n",
    "\n",
    "    h1 = f1.getHeight()\n",
    "    h2 = f2.GetHeight()\n",
    "\n",
    "    d1 = f1.GetDepth()\n",
    "    d2 = f2.GetDepth()\n",
    "\n",
    "\n",
    "    print(\"running \" +name)\n",
    "    \n",
    "\n",
    "\n",
    "    #del f1, f2, files #needed this to not make the memory overflow\n",
    "\n",
    "\"\"\"\n"
   ]
  },
  {
   "cell_type": "code",
   "execution_count": 43,
   "metadata": {},
   "outputs": [
    {
     "name": "stdout",
     "output_type": "stream",
     "text": [
      "165\n",
      "[[320, 300, 360, 90000, 21276000], ['G:/Shared drives/INVent/mfk58/Dataset/CCF_Pre_Resampled\\\\RectalCA_027', 'G:/Shared drives/INVent/mfk58/Dataset/CCF_Pre_Resampled\\\\RectalCA_011', 'G:/Shared drives/INVent/mfk58/Dataset/CCF_Pre_Resampled\\\\RectalCA_037', 'G:/Shared drives/INVent/mfk58/Dataset/CCF_Pre_Resampled\\\\RectalCA_011', 'G:/Shared drives/INVent/mfk58/Dataset/CCF_Pre_Resampled\\\\RectalCA_037'], [[320, 210, 99, 67200, 6652800], [300, 300, 144, 90000, 12960000], [300, 197, 360, 59100, 21276000], [300, 300, 144, 90000, 12960000], [300, 197, 360, 59100, 21276000]]]\n"
     ]
    }
   ],
   "source": [
    "\n",
    "\n",
    "#find maximum values\n",
    "import pathlib\n",
    "import SimpleITK as sitk\n",
    "\n",
    "comList = CCF_list + UH_list\n",
    "#print(comList)\n",
    "\n",
    "dimensions = [0,0,0,0,0] #x,y,z, x-y area, vol\n",
    "dfiles = [\"\",\"\",\"\",\"\",\"\"]\n",
    "max = [0,0,0,0,0]\n",
    "\n",
    "\n",
    "reader = sitk.ImageFileReader()\n",
    "\n",
    "\n",
    "\n",
    "\n",
    "print (len(comList))\n",
    "for name in comList:\n",
    "    #print(\"running \" +name)\n",
    "    files = glob.glob(name+\"/*.mha\")\n",
    "    if not (\"ax\" in files[0] and \"ax\" in files[1]):\n",
    "        continue\n",
    "    for file in files:\n",
    "        reader.SetFileName(file)\n",
    "        reader.LoadPrivateTagsOn()\n",
    "        reader.ReadImageInformation()\n",
    "\n",
    "        size = reader.GetSize()  \n",
    "        xres, yres, zres = reader.GetSpacing() \n",
    "        size = list(size)\n",
    "        size.append(np.prod(size[0:2]))\n",
    "        size.append(np.prod(size[0:3]))\n",
    "\n",
    "        for dim in range(len(dimensions)):\n",
    "            if size[dim] > dimensions[dim]:\n",
    "                dimensions[dim] = size[dim]\n",
    "                dfiles[dim] = name\n",
    "                max[dim] = size\n",
    "\n",
    "            if not (xres == 1 and yres == 1 and zres == 1):\n",
    "                print(\"resolution is incorrect for: \" + name)\n",
    "\n",
    "\n",
    "table = [dimensions,dfiles,max]\n",
    "print(table)\n",
    "        \n",
    "\n",
    "\n",
    "\n",
    "\n",
    "\n",
    "\n",
    "    \n",
    "    \n",
    "\n"
   ]
  },
  {
   "cell_type": "code",
   "execution_count": 45,
   "metadata": {},
   "outputs": [
    {
     "name": "stdout",
     "output_type": "stream",
     "text": [
      "165\n",
      "[[150, 135, 60, 22500, 1920000], ['G:/Shared drives/INVent/mfk58/Dataset/CCF_Pre_Resampled\\\\RectalCA_039', 'G:/Shared drives/INVent/mfk58/Dataset/CCF_Pre_Resampled\\\\RectalCA_124', 'G:/Shared drives/INVent/mfk58/Dataset/CCF_Pre_Resampled\\\\RectalCA_098', 'G:/Shared drives/INVent/mfk58/Dataset/CCF_Pre_Resampled\\\\RectalCA_039', 'G:/Shared drives/INVent/mfk58/Dataset/UH_Pre_Resampled\\\\RectalCA_038'], [[150, 150, 200, 22500, 4500000], [180, 135, 173, 24300, 4203900], [230, 230, 60, 52900, 3174000], [150, 150, 200, 22500, 4500000], [160, 160, 75, 25600, 1920000]]]\n"
     ]
    }
   ],
   "source": [
    "\n",
    "\n",
    "#find minimum values\n",
    "\n",
    "\n",
    "\n",
    "#based on the maximums obtained from the previous block - these should be large enough\n",
    "dimensions = [10000,10000,10000,1000000,31276000] #x,y,z, x-y area, vol\n",
    "dfiles = [\"\",\"\",\"\",\"\",\"\"]\n",
    "max = [0,0,0,0,0]\n",
    "\n",
    "\n",
    "reader = sitk.ImageFileReader()\n",
    "\n",
    "\n",
    "\n",
    "\n",
    "print (len(comList))\n",
    "for name in comList:\n",
    "    #print(\"running \" +name)\n",
    "    files = glob.glob(name+\"/*.mha\")\n",
    "    if not (\"ax\" in files[0] and \"ax\" in files[1]):\n",
    "        continue\n",
    "    for file in files:\n",
    "        reader.SetFileName(file)\n",
    "        reader.LoadPrivateTagsOn()\n",
    "        reader.ReadImageInformation()\n",
    "\n",
    "        size = reader.GetSize()  \n",
    "        xres, yres, zres = reader.GetSpacing() \n",
    "        size = list(size)\n",
    "        size.append(np.prod(size[0:2]))\n",
    "        size.append(np.prod(size[0:3]))\n",
    "\n",
    "        for dim in range(len(dimensions)):\n",
    "            if size[dim] < dimensions[dim]:\n",
    "                dimensions[dim] = size[dim]\n",
    "                dfiles[dim] = name\n",
    "                max[dim] = size\n",
    "\n",
    "            if not (xres == 1 and yres == 1 and zres == 1):\n",
    "                print(\"resolution is incorrect for: \" + name)\n",
    "\n",
    "\n",
    "mintable = [dimensions,dfiles,max]\n",
    "print(mintable)\n",
    "        \n",
    "\n",
    "\n",
    "\n",
    "\n",
    "\n",
    "\n",
    "    \n",
    "    \n",
    "\n"
   ]
  }
 ],
 "metadata": {
  "kernelspec": {
   "display_name": "Python 3",
   "language": "python",
   "name": "python3"
  },
  "language_info": {
   "codemirror_mode": {
    "name": "ipython",
    "version": 3
   },
   "file_extension": ".py",
   "mimetype": "text/x-python",
   "name": "python",
   "nbconvert_exporter": "python",
   "pygments_lexer": "ipython3",
   "version": "3.10.1"
  },
  "orig_nbformat": 4
 },
 "nbformat": 4,
 "nbformat_minor": 2
}
