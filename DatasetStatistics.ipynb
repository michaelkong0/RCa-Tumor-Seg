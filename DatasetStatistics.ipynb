{
 "cells": [
  {
   "cell_type": "code",
   "execution_count": 1,
   "metadata": {},
   "outputs": [
    {
     "name": "stdout",
     "output_type": "stream",
     "text": [
      "G:\\Shared drives\\INVent\\mfk58\\Dataset\n",
      " Volume in drive G is Google Drive\n",
      " Volume Serial Number is 1983-1116\n",
      "\n",
      " Directory of G:\\Shared drives\\INVent\\mfk58\\Dataset\n",
      "\n",
      "05/30/2023  03:50 PM    <DIR>          .\n",
      "05/26/2023  01:31 PM    <DIR>          ..\n",
      "05/30/2023  03:50 PM    <DIR>          CCF_Pre_Resampled\n",
      "05/30/2023  03:53 PM    <DIR>          UH_Pre_Resampled\n",
      "               0 File(s)              0 bytes\n",
      "               4 Dir(s)  322,071,490,560 bytes free\n"
     ]
    }
   ],
   "source": [
    "%cd  G:\\Shared drives\\INVent\\mfk58\\Dataset\\\n",
    "\n",
    "#ensure file directory is correct\n",
    "\n",
    "%ls "
   ]
  },
  {
   "cell_type": "code",
   "execution_count": 2,
   "metadata": {},
   "outputs": [
    {
     "name": "stdout",
     "output_type": "stream",
     "text": [
      "Requirement already satisfied: Pillow in c:\\users\\theev\\appdata\\local\\programs\\python\\python310\\lib\\site-packages (9.5.0)\n",
      "Note: you may need to restart the kernel to use updated packages.\n"
     ]
    },
    {
     "name": "stderr",
     "output_type": "stream",
     "text": [
      "WARNING: You are using pip version 21.2.4; however, version 23.1.2 is available.\n",
      "You should consider upgrading via the 'c:\\Users\\theev\\AppData\\Local\\Programs\\Python\\Python310\\python.exe -m pip install --upgrade pip' command.\n"
     ]
    },
    {
     "name": "stdout",
     "output_type": "stream",
     "text": [
      "Requirement already satisfied: numpy in c:\\users\\theev\\appdata\\local\\programs\\python\\python310\\lib\\site-packages (1.24.3)\n",
      "Note: you may need to restart the kernel to use updated packages.\n"
     ]
    },
    {
     "name": "stderr",
     "output_type": "stream",
     "text": [
      "WARNING: You are using pip version 21.2.4; however, version 23.1.2 is available.\n",
      "You should consider upgrading via the 'c:\\Users\\theev\\AppData\\Local\\Programs\\Python\\Python310\\python.exe -m pip install --upgrade pip' command.\n"
     ]
    }
   ],
   "source": [
    "%pip install Pillow\n",
    "%pip install numpy\n",
    "import glob\n",
    "#import numpy\n",
    "\n",
    "import SimpleITK as sitk"
   ]
  },
  {
   "cell_type": "code",
   "execution_count": 43,
   "metadata": {},
   "outputs": [
    {
     "name": "stdout",
     "output_type": "stream",
     "text": [
      "Total CCF: 66\n",
      "Missing masks for CCF:[]\n",
      "Total UH: 99\n",
      "Missing masks for UH:[]\n",
      "Total: 165\n",
      "Expected: 165\n"
     ]
    }
   ],
   "source": [
    "\n",
    "\n",
    "#check some basic sanity check information to see if the masks are the same\n",
    "def hasMask(name):\n",
    "    files = glob.glob(name+\"/*\")\n",
    "    if(len(files)<2):\n",
    "        return False\n",
    "\n",
    "    \"\"\" \n",
    "    f1 = sitk.ReadImage(files[0], imageIO=\"MetaImageIO\")\n",
    "    f2 = sitk.ReadImage(files[1], imageIO=\"MetaImageIO\")\n",
    "\n",
    "    print(\"running \" +name)\n",
    "    if not (f1.GetSize()== f2.GetSize()):\n",
    "        return False\n",
    "    \"\"\"\n",
    "\n",
    "    return True\n",
    "\n",
    "\n",
    "def axial(name):\n",
    "    files = glob.glob(name+\"/*\")\n",
    "    if(\"ax\" in files[0] and \"ax\" in files[1]):\n",
    "        return True\n",
    "    return False\n",
    "\n",
    "\n",
    "\n",
    "CCF_count = 0\n",
    "\n",
    "CCF_missing = [] #missing masks\n",
    "CCF_list = []\n",
    "\n",
    "for name in glob.glob('G:/Shared drives/INVent/mfk58/Dataset/CCF_Pre_Resampled/*'):\n",
    "    \n",
    "    if not (hasMask(name)):\n",
    "        CCF_missing.append(name)\n",
    "    if axial(name):\n",
    "        CCF_count +=1\n",
    "        CCF_list.append(name)\n",
    "    \n",
    "\n",
    "print(\"Total CCF: \" + str(CCF_count))\n",
    "print(\"Missing masks for CCF:\" + str(CCF_missing))\n",
    "\n",
    "\n",
    "\n",
    "\n",
    "UH_count = 0\n",
    "\n",
    "UH_missing = [] #missing masks\n",
    "UH_list = []\n",
    "\n",
    "for name in glob.glob('G:/Shared drives/INVent/mfk58/Dataset/UH_Pre_Resampled/*'):\n",
    "    \n",
    "\n",
    "    if not (hasMask(name)):\n",
    "        UH_missing.append(name)\n",
    "    if axial(name):\n",
    "        UH_count +=1\n",
    "        UH_list.append(name)\n",
    "\n",
    "    \n",
    "\n",
    "print(\"Total UH: \" + str(UH_count))\n",
    "print(\"Missing masks for UH:\" + str(UH_missing))\n",
    "\n",
    "print(\"Total: \" +str(UH_count+CCF_count))\n",
    "print(\"Expected: 165\")\n"
   ]
  },
  {
   "attachments": {},
   "cell_type": "markdown",
   "metadata": {},
   "source": [
    "Calculating the greater statistics"
   ]
  },
  {
   "cell_type": "code",
   "execution_count": 15,
   "metadata": {},
   "outputs": [
    {
     "name": "stdout",
     "output_type": "stream",
     "text": [
      "Requirement already satisfied: pandas in c:\\users\\theev\\appdata\\local\\programs\\python\\python310\\lib\\site-packages (2.0.2)\n",
      "Requirement already satisfied: tzdata>=2022.1 in c:\\users\\theev\\appdata\\local\\programs\\python\\python310\\lib\\site-packages (from pandas) (2023.3)\n",
      "Requirement already satisfied: python-dateutil>=2.8.2 in c:\\users\\theev\\appdata\\roaming\\python\\python310\\site-packages (from pandas) (2.8.2)\n",
      "Requirement already satisfied: pytz>=2020.1 in c:\\users\\theev\\appdata\\local\\programs\\python\\python310\\lib\\site-packages (from pandas) (2023.3)\n",
      "Requirement already satisfied: numpy>=1.21.0 in c:\\users\\theev\\appdata\\local\\programs\\python\\python310\\lib\\site-packages (from pandas) (1.24.3)\n",
      "Requirement already satisfied: six>=1.5 in c:\\users\\theev\\appdata\\roaming\\python\\python310\\site-packages (from python-dateutil>=2.8.2->pandas) (1.16.0)\n",
      "Note: you may need to restart the kernel to use updated packages.\n"
     ]
    },
    {
     "name": "stderr",
     "output_type": "stream",
     "text": [
      "WARNING: You are using pip version 21.2.4; however, version 23.1.2 is available.\n",
      "You should consider upgrading via the 'c:\\Users\\theev\\AppData\\Local\\Programs\\Python\\Python310\\python.exe -m pip install --upgrade pip' command.\n"
     ]
    },
    {
     "name": "stdout",
     "output_type": "stream",
     "text": [
      "Collecting openpyxlNote: you may need to restart the kernel to use updated packages.\n",
      "\n",
      "  Downloading openpyxl-3.1.2-py2.py3-none-any.whl (249 kB)\n",
      "Collecting et-xmlfile\n",
      "  Downloading et_xmlfile-1.1.0-py3-none-any.whl (4.7 kB)\n",
      "Installing collected packages: et-xmlfile, openpyxl\n",
      "Successfully installed et-xmlfile-1.1.0 openpyxl-3.1.2\n"
     ]
    },
    {
     "name": "stderr",
     "output_type": "stream",
     "text": [
      "WARNING: You are using pip version 21.2.4; however, version 23.1.2 is available.\n",
      "You should consider upgrading via the 'c:\\Users\\theev\\AppData\\Local\\Programs\\Python\\Python310\\python.exe -m pip install --upgrade pip' command.\n"
     ]
    }
   ],
   "source": [
    "%pip install pandas\n",
    "%pip install openpyxl"
   ]
  },
  {
   "cell_type": "code",
   "execution_count": 81,
   "metadata": {},
   "outputs": [
    {
     "name": "stdout",
     "output_type": "stream",
     "text": [
      "Files that are not in the splitting list\n"
     ]
    }
   ],
   "source": [
    "import pandas as pd\n",
    "import numpy as np\n",
    "\n",
    "split = pd.read_excel(r'G:\\Shared drives\\INVent\\mfk58\\Dataset-split.xlsx')\n",
    "split = split.to_numpy();\n",
    "#print(split[[1,2]])\n",
    "\n",
    "\n",
    "\n",
    "names = UH_list\n",
    "adjusted = []\n",
    "for end in names:\n",
    "    end = \"UH_\" + end.rsplit(\"\\\\\",1)[-1] + \"_pre_ax_raw_resampled\"\n",
    "    adjusted.append(end)\n",
    "\n",
    "names = CCF_list\n",
    "for end in names:\n",
    "    end = \"CCF_\" + end.rsplit(\"\\\\\",1)[-1] + \"_pre_ax_raw_resampled\"\n",
    "    adjusted.append(end)\n",
    "\n",
    "\n",
    "#these files do not match the general naming scheme, but they are present\n",
    "adjusted = list(map(lambda x: x.replace(\"CCF_RectalCA_011_pre_ax_raw_resampled\", \"CCF_RectalCA_011_pre_ax_resampled\"), adjusted))\n",
    "adjusted = list(map(lambda x: x.replace(\"CCF_RectalCA_060_pre_ax_raw_resampled\", \"CCF_RectalCA_060_pre_ax_resampled\"), adjusted))\n",
    "\n",
    "print(\"Files that are not in the splitting list\")\n",
    "for name in adjusted:\n",
    "    if not(np.isin(name,split)):\n",
    "        print(name)\n"
   ]
  },
  {
   "cell_type": "code",
   "execution_count": 79,
   "metadata": {},
   "outputs": [
    {
     "name": "stdout",
     "output_type": "stream",
     "text": [
      "Validation set CCF: 47\n",
      "Validation set UH: 67\n",
      "Training set CCF: 19\n",
      "Training set UH: 32\n"
     ]
    }
   ],
   "source": [
    "\n",
    "x = split[:,[0,2]].flatten()\n",
    "x = np.append(x, split[0:10,3])\n",
    "x.sort()\n",
    "#print(x)\n",
    "\n",
    "count = 0\n",
    "for name in x:\n",
    "\n",
    "    if name.split('_',1)[0] == \"UH\":\n",
    "        break\n",
    "    count += 1\n",
    "    \n",
    "print(\"Validation set CCF: \" + str(count))\n",
    "print(\"Validation set UH: \" + str(len(x)-count))\n",
    "\n",
    "print(\"Training set CCF: \" + str(CCF_count-count))\n",
    "print(\"Training set UH: \" + str(UH_count-len(x)+count))\n",
    "\n",
    "\n"
   ]
  }
 ],
 "metadata": {
  "kernelspec": {
   "display_name": "Python 3",
   "language": "python",
   "name": "python3"
  },
  "language_info": {
   "codemirror_mode": {
    "name": "ipython",
    "version": 3
   },
   "file_extension": ".py",
   "mimetype": "text/x-python",
   "name": "python",
   "nbconvert_exporter": "python",
   "pygments_lexer": "ipython3",
   "version": "3.10.1"
  },
  "orig_nbformat": 4
 },
 "nbformat": 4,
 "nbformat_minor": 2
}
