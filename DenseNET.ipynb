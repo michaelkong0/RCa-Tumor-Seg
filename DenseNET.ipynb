{
 "cells": [
  {
   "cell_type": "code",
   "execution_count": 5,
   "metadata": {},
   "outputs": [
    {
     "name": "stdout",
     "output_type": "stream",
     "text": [
      "__Python VERSION: 3.10.1 (tags/v3.10.1:2cd268a, Dec  6 2021, 19:10:37) [MSC v.1929 64 bit (AMD64)]\n",
      "__pyTorch VERSION: 2.1.0.dev20230602+cu121\n",
      "__CUDNN VERSION: 8801\n"
     ]
    }
   ],
   "source": [
    "import torch\n",
    "import sys\n",
    "assert torch.cuda.is_available() == True, \"GPU NOT FOUND, FIX TORCH INSTALL\"\n",
    "print('__Python VERSION:', sys.version)\n",
    "print('__pyTorch VERSION:', torch.__version__)\n",
    "print('__CUDNN VERSION:', torch.backends.cudnn.version())"
   ]
  },
  {
   "cell_type": "code",
   "execution_count": 8,
   "metadata": {},
   "outputs": [
    {
     "name": "stdout",
     "output_type": "stream",
     "text": [
      "Requirement already satisfied: tensorboard_logger in c:\\users\\theev\\appdata\\local\\programs\\python\\python310\\lib\\site-packages (0.1.0)\n",
      "Requirement already satisfied: protobuf in c:\\users\\theev\\appdata\\local\\programs\\python\\python310\\lib\\site-packages (from tensorboard_logger) (4.23.3)\n",
      "Requirement already satisfied: six in c:\\users\\theev\\appdata\\roaming\\python\\python310\\site-packages (from tensorboard_logger) (1.16.0)\n",
      "Requirement already satisfied: numpy in c:\\users\\theev\\appdata\\local\\programs\\python\\python310\\lib\\site-packages (from tensorboard_logger) (1.25.0)\n",
      "Requirement already satisfied: scipy>=0.19.1 in c:\\users\\theev\\appdata\\local\\programs\\python\\python310\\lib\\site-packages (from tensorboard_logger) (1.10.1)\n",
      "Requirement already satisfied: pillow>=4.1.1 in c:\\users\\theev\\appdata\\local\\programs\\python\\python310\\lib\\site-packages (from tensorboard_logger) (9.5.0)\n",
      "Note: you may need to restart the kernel to use updated packages.\n",
      "Collecting albumentations\n",
      "  Downloading albumentations-1.3.1-py3-none-any.whl (125 kB)\n",
      "                                              0.0/125.7 kB ? eta -:--:--\n",
      "     -------------------------------------- 125.7/125.7 kB 3.7 MB/s eta 0:00:00\n",
      "Requirement already satisfied: numpy>=1.11.1 in c:\\users\\theev\\appdata\\local\\programs\\python\\python310\\lib\\site-packages (from albumentations) (1.25.0)\n",
      "Requirement already satisfied: scipy>=1.1.0 in c:\\users\\theev\\appdata\\local\\programs\\python\\python310\\lib\\site-packages (from albumentations) (1.10.1)\n",
      "Requirement already satisfied: scikit-image>=0.16.1 in c:\\users\\theev\\appdata\\local\\programs\\python\\python310\\lib\\site-packages (from albumentations) (0.21.0)\n",
      "Requirement already satisfied: PyYAML in c:\\users\\theev\\appdata\\local\\programs\\python\\python310\\lib\\site-packages (from albumentations) (6.0)\n",
      "Collecting qudida>=0.0.4 (from albumentations)\n",
      "  Downloading qudida-0.0.4-py3-none-any.whl (3.5 kB)\n",
      "Collecting opencv-python-headless>=4.1.1 (from albumentations)\n",
      "  Downloading opencv_python_headless-4.7.0.72-cp37-abi3-win_amd64.whl (38.1 MB)\n",
      "                                              0.0/38.1 MB ? eta -:--:--\n",
      "                                              0.3/38.1 MB 8.3 MB/s eta 0:00:05\n",
      "                                              0.6/38.1 MB 5.8 MB/s eta 0:00:07\n",
      "                                              0.9/38.1 MB 6.5 MB/s eta 0:00:06\n",
      "     -                                        1.2/38.1 MB 6.6 MB/s eta 0:00:06\n",
      "     -                                        1.6/38.1 MB 6.6 MB/s eta 0:00:06\n",
      "     --                                       1.9/38.1 MB 6.9 MB/s eta 0:00:06\n",
      "     --                                       2.3/38.1 MB 7.1 MB/s eta 0:00:06\n",
      "     ---                                      2.9/38.1 MB 7.8 MB/s eta 0:00:05\n",
      "     ---                                      3.6/38.1 MB 8.6 MB/s eta 0:00:04\n",
      "     ----                                     4.4/38.1 MB 9.4 MB/s eta 0:00:04\n",
      "     -----                                    5.3/38.1 MB 10.2 MB/s eta 0:00:04\n",
      "     ------                                   6.1/38.1 MB 10.8 MB/s eta 0:00:03\n",
      "     -------                                  7.2/38.1 MB 11.8 MB/s eta 0:00:03\n",
      "     --------                                 8.4/38.1 MB 12.8 MB/s eta 0:00:03\n",
      "     ----------                               9.6/38.1 MB 13.6 MB/s eta 0:00:03\n",
      "     -----------                             10.9/38.1 MB 16.0 MB/s eta 0:00:02\n",
      "     ------------                            12.2/38.1 MB 19.8 MB/s eta 0:00:02\n",
      "     -------------                           13.6/38.1 MB 23.4 MB/s eta 0:00:02\n",
      "     ---------------                         14.9/38.1 MB 25.1 MB/s eta 0:00:01\n",
      "     -----------------                       16.6/38.1 MB 27.3 MB/s eta 0:00:01\n",
      "     ------------------                      17.7/38.1 MB 27.3 MB/s eta 0:00:01\n",
      "     -------------------                     18.9/38.1 MB 28.5 MB/s eta 0:00:01\n",
      "     --------------------                    20.2/38.1 MB 28.5 MB/s eta 0:00:01\n",
      "     ----------------------                  21.9/38.1 MB 28.5 MB/s eta 0:00:01\n",
      "     ------------------------                23.8/38.1 MB 31.2 MB/s eta 0:00:01\n",
      "     -------------------------               24.9/38.1 MB 29.7 MB/s eta 0:00:01\n",
      "     ---------------------------             26.7/38.1 MB 31.1 MB/s eta 0:00:01\n",
      "     -----------------------------           28.7/38.1 MB 32.8 MB/s eta 0:00:01\n",
      "     -------------------------------         30.6/38.1 MB 36.4 MB/s eta 0:00:01\n",
      "     --------------------------------        31.6/38.1 MB 34.4 MB/s eta 0:00:01\n",
      "     ----------------------------------      33.6/38.1 MB 34.4 MB/s eta 0:00:01\n",
      "     -----------------------------------     34.9/38.1 MB 34.4 MB/s eta 0:00:01\n",
      "     -------------------------------------   36.8/38.1 MB 36.4 MB/s eta 0:00:01\n",
      "     --------------------------------------  38.1/38.1 MB 36.4 MB/s eta 0:00:01\n",
      "     --------------------------------------  38.1/38.1 MB 36.4 MB/s eta 0:00:01\n",
      "     --------------------------------------- 38.1/38.1 MB 28.5 MB/s eta 0:00:00\n",
      "Requirement already satisfied: scikit-learn>=0.19.1 in c:\\users\\theev\\appdata\\local\\programs\\python\\python310\\lib\\site-packages (from qudida>=0.0.4->albumentations) (1.2.2)\n",
      "Requirement already satisfied: typing-extensions in c:\\users\\theev\\appdata\\local\\programs\\python\\python310\\lib\\site-packages (from qudida>=0.0.4->albumentations) (4.4.0)\n",
      "Requirement already satisfied: networkx>=2.8 in c:\\users\\theev\\appdata\\local\\programs\\python\\python310\\lib\\site-packages (from scikit-image>=0.16.1->albumentations) (3.0rc1)\n",
      "Requirement already satisfied: pillow>=9.0.1 in c:\\users\\theev\\appdata\\local\\programs\\python\\python310\\lib\\site-packages (from scikit-image>=0.16.1->albumentations) (9.5.0)\n",
      "Requirement already satisfied: imageio>=2.27 in c:\\users\\theev\\appdata\\local\\programs\\python\\python310\\lib\\site-packages (from scikit-image>=0.16.1->albumentations) (2.31.1)\n",
      "Requirement already satisfied: tifffile>=2022.8.12 in c:\\users\\theev\\appdata\\local\\programs\\python\\python310\\lib\\site-packages (from scikit-image>=0.16.1->albumentations) (2023.4.12)\n",
      "Requirement already satisfied: PyWavelets>=1.1.1 in c:\\users\\theev\\appdata\\local\\programs\\python\\python310\\lib\\site-packages (from scikit-image>=0.16.1->albumentations) (1.4.1)\n",
      "Requirement already satisfied: packaging>=21 in c:\\users\\theev\\appdata\\roaming\\python\\python310\\site-packages (from scikit-image>=0.16.1->albumentations) (23.0)\n",
      "Requirement already satisfied: lazy_loader>=0.2 in c:\\users\\theev\\appdata\\local\\programs\\python\\python310\\lib\\site-packages (from scikit-image>=0.16.1->albumentations) (0.2)\n",
      "Requirement already satisfied: joblib>=1.1.1 in c:\\users\\theev\\appdata\\local\\programs\\python\\python310\\lib\\site-packages (from scikit-learn>=0.19.1->qudida>=0.0.4->albumentations) (1.2.0)\n",
      "Requirement already satisfied: threadpoolctl>=2.0.0 in c:\\users\\theev\\appdata\\local\\programs\\python\\python310\\lib\\site-packages (from scikit-learn>=0.19.1->qudida>=0.0.4->albumentations) (3.1.0)\n",
      "Installing collected packages: opencv-python-headless, qudida, albumentations\n",
      "Successfully installed albumentations-1.3.1 opencv-python-headless-4.7.0.72 qudida-0.0.4\n",
      "Note: you may need to restart the kernel to use updated packages.\n"
     ]
    }
   ],
   "source": [
    "%pip install tensorboard_logger\n",
    "%pip install albumentations"
   ]
  },
  {
   "cell_type": "code",
   "execution_count": 2,
   "metadata": {},
   "outputs": [
    {
     "name": "stdout",
     "output_type": "stream",
     "text": [
      "_CudaDeviceProperties(name='NVIDIA GeForce RTX 3060 Laptop GPU', major=8, minor=6, total_memory=6143MB, multi_processor_count=30)\n"
     ]
    }
   ],
   "source": [
    "dataname=\"RCa_Densenet\"\n",
    "class_names=[\"none\",\"tumor\"]\n",
    "gpuid = 0\n",
    "print(torch.cuda.get_device_properties(gpuid))\n",
    "torch.cuda.set_device(gpuid)\n",
    "device = torch.device(f'cuda:{gpuid}' if torch.cuda.is_available() else 'cpu')"
   ]
  }
 ],
 "metadata": {
  "kernelspec": {
   "display_name": "Python 3",
   "language": "python",
   "name": "python3"
  },
  "language_info": {
   "codemirror_mode": {
    "name": "ipython",
    "version": 3
   },
   "file_extension": ".py",
   "mimetype": "text/x-python",
   "name": "python",
   "nbconvert_exporter": "python",
   "pygments_lexer": "ipython3",
   "version": "3.10.1"
  },
  "orig_nbformat": 4
 },
 "nbformat": 4,
 "nbformat_minor": 2
}
