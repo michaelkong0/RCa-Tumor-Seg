{
 "cells": [
  {
   "attachments": {},
   "cell_type": "markdown",
   "metadata": {},
   "source": [
    "### 3D UNet test\n",
    "Trialing 3D UNet implementation found here: https://github.com/wolny/pytorch-3dunet"
   ]
  },
  {
   "attachments": {},
   "cell_type": "markdown",
   "metadata": {},
   "source": [
    "###Code to install and activate the correct conda environment \n",
    "\n",
    "In cmd line with a conda environment:\n",
    "```\n",
    "conda install -c conda-forge mamba\n",
    "mamba create -n pytorch3dunet -c pytorch -c nvidia -c conda-forge -c awolny pytorch-3dunet\n",
    "conda activate pytorch3dunet\n",
    "```\n",
    "\n",
    "#### Running the model\n",
    "__config files determine filepaths etc.__\n",
    "\n",
    "train3dunet --config <CONFIG>\n",
    "\n",
    "\n",
    "\n",
    "predict3dunet --config <CONFIG>\n"
   ]
  },
  {
   "cell_type": "code",
   "execution_count": 38,
   "metadata": {},
   "outputs": [
    {
     "name": "stdout",
     "output_type": "stream",
     "text": [
      "C:\\Users\\theev\\OneDrive\\Documents\\LAB\\Code\\3DUNetTest\n",
      " Volume in drive C is OS\n",
      " Volume Serial Number is 9427-9109\n",
      "\n",
      " Directory of C:\\Users\\theev\\OneDrive\\Documents\\LAB\\Code\\3DUNetTest\n",
      "\n",
      "06/01/2023  01:32 PM    <DIR>          .\n",
      "06/01/2023  01:32 PM    <DIR>          ..\n",
      "06/01/2023  01:31 PM    <DIR>          Checkpoint\n",
      "06/01/2023  01:32 PM             1,024 train.pytable\n",
      "06/01/2023  01:32 PM             1,024 val.pytable\n",
      "               2 File(s)          2,048 bytes\n",
      "               3 Dir(s)  323,808,464,896 bytes free\n"
     ]
    }
   ],
   "source": [
    "#create testing HDF5\n",
    "%cd C:\\Users\\theev\\OneDrive\\Documents\\LAB\\Code\\3DUNetTest\n",
    "%ls"
   ]
  },
  {
   "cell_type": "code",
   "execution_count": 18,
   "metadata": {},
   "outputs": [
    {
     "name": "stdout",
     "output_type": "stream",
     "text": [
      "Collecting tables\n",
      "  Using cached tables-3.8.0-cp310-cp310-win_amd64.whl (3.6 MB)\n",
      "Collecting numpy>=1.19.0\n",
      "  Using cached numpy-1.24.3-cp310-cp310-win_amd64.whl (14.8 MB)\n",
      "Collecting py-cpuinfo\n",
      "  Using cached py_cpuinfo-9.0.0-py3-none-any.whl (22 kB)\n",
      "Collecting numexpr>=2.6.2\n",
      "  Using cached numexpr-2.8.4-cp310-cp310-win_amd64.whl (92 kB)\n",
      "Collecting blosc2~=2.0.0\n",
      "  Using cached blosc2-2.0.0-cp310-cp310-win_amd64.whl (2.0 MB)\n",
      "Collecting cython>=0.29.21\n",
      "  Using cached Cython-0.29.35-py2.py3-none-any.whl (988 kB)\n",
      "Requirement already satisfied: packaging in c:\\users\\theev\\appdata\\roaming\\python\\python310\\site-packages (from tables) (23.0)\n",
      "Collecting msgpack\n",
      "  Using cached msgpack-1.0.5-cp310-cp310-win_amd64.whl (61 kB)\n",
      "Installing collected packages: py-cpuinfo, msgpack, numpy, cython, blosc2, numexpr, tables\n",
      "Successfully installed blosc2-2.0.0 cython-0.29.35 msgpack-1.0.5 numexpr-2.8.4 numpy-1.24.3 py-cpuinfo-9.0.0 tables-3.8.0\n",
      "Note: you may need to restart the kernel to use updated packages.\n"
     ]
    }
   ],
   "source": [
    "%pip install tables\n"
   ]
  },
  {
   "cell_type": "code",
   "execution_count": 87,
   "metadata": {},
   "outputs": [],
   "source": [
    "import tables\n",
    "import numpy as np\n",
    "img_dtype = {}\n",
    "img_dtype[\"raw\"] = tables.Float64Atom()  \n",
    "img_dtype[\"label\"] = tables.UInt16Atom()  \n",
    "filenameAtom = tables.StringAtom(itemsize=255) #hash\n",
    "\n",
    "imgtypes = [\"raw\",\"label\"]\n",
    "\n",
    "#brute force two filepaths\n",
    "training = [r\"G:\\Shared drives\\INVent\\mfk58\\Dataset\\UH_Pre_Resampled\\RectalCA_133\"]\n",
    "# ,r\"G:\\Shared drives\\INVent\\mfk58\\Dataset\\UH_Pre_Resampled\\RectalCA_077\"\n",
    "\n",
    "validating = [r\"G:\\Shared drives\\INVent\\mfk58\\Dataset\\UH_Pre_Resampled\\RectalCA_133\"]\n",
    "\n"
   ]
  },
  {
   "cell_type": "code",
   "execution_count": 91,
   "metadata": {},
   "outputs": [
    {
     "name": "stdout",
     "output_type": "stream",
     "text": [
      "(180, 180)\n",
      "(192, 180, 180)\n",
      "G:\\Shared drives\\INVent\\mfk58\\Dataset\\UH_Pre_Resampled\\RectalCA_133\\UH_RectalCA_133_pre_ax_raw_resampled.mha\n",
      "done\n",
      "(192, 180, 180)\n",
      "G:\\Shared drives\\INVent\\mfk58\\Dataset\\UH_Pre_Resampled\\RectalCA_133\\UH_RectalCA_133_pre_ax_raw_label_resampled.mha\n",
      "done\n",
      "Doing validation now\n",
      "(192, 180, 180)\n",
      "G:\\Shared drives\\INVent\\mfk58\\Dataset\\UH_Pre_Resampled\\RectalCA_133\\UH_RectalCA_133_pre_ax_raw_resampled.mha\n",
      "done\n",
      "(192, 180, 180)\n",
      "G:\\Shared drives\\INVent\\mfk58\\Dataset\\UH_Pre_Resampled\\RectalCA_133\\UH_RectalCA_133_pre_ax_raw_label_resampled.mha\n",
      "done\n"
     ]
    }
   ],
   "source": [
    "import SimpleITK as sitk\n",
    "\n",
    "raw_file = tables.open_file(f\"./train.h5\", mode='w') \n",
    "\n",
    "block_shape={} \n",
    "patch_size = 400\n",
    "\n",
    "reader = sitk.ImageFileReader()\n",
    "\n",
    "reader.SetFileName(r\"G:\\Shared drives\\INVent\\mfk58\\Dataset\\UH_Pre_Resampled\\RectalCA_133\\UH_RectalCA_133_pre_ax_raw_label_resampled.mha\")\n",
    "reader.LoadPrivateTagsOn()\n",
    "reader.ReadImageInformation()\n",
    "\n",
    "size = reader.GetSize()\n",
    "#str_size = (size[2],size[1],size[0])\n",
    "str_size = (size[1],size[0])\n",
    "print(str_size)\n",
    "\n",
    "\n",
    "block_shape[\"raw\"]= np.array(str_size) #3 color channels\n",
    "block_shape[\"label\"]= np.array(str_size) #black and white\n",
    "\n",
    "\n",
    "\n",
    "storage = {}\n",
    "for imgtype in imgtypes: #init arrays for each storage\n",
    "        storage[imgtype]= raw_file.create_earray(raw_file.root, imgtype, img_dtype[imgtype],  \n",
    "                                                  shape=np.append([0],block_shape[imgtype]))\n",
    "\n",
    "\n",
    "for file in training:\n",
    "    for type in imgtypes:\n",
    "        path = file + r\"\\UH_\"+ file.rsplit(\"\\\\\",1)[-1] + \"_pre_ax_raw\" + (\"_label\" if type == \"label\" else \"\") + \"_resampled.mha\"\n",
    "        if path == r\"G:\\Shared drives\\INVent\\mfk58\\Dataset\\UH_Pre_Resampled\\RectalCA_077\\UH_RectalCA_077_pre_ax_raw_label_resampled.mha\":\n",
    "            path = r\"G:\\Shared drives\\INVent\\mfk58\\Dataset\\UH_Pre_Resampled\\RectalCA_077\\UH_RectalCA_077_pre_ax_label_resampled.mha\"\n",
    "        \n",
    "        image = sitk.ReadImage(path, imageIO=\"MetaImageIO\")\n",
    "        n = [np.transpose(sitk.GetArrayFromImage(image[:,:,i])) for i in range(image.GetDepth())]\n",
    "        print(np.array(n).shape)\n",
    "        #n = np.expand_dims(n,0)\n",
    "\n",
    "        storage[type].append(n)\n",
    "\n",
    "        print(path)\n",
    "        print('done')\n",
    "\n",
    "    \n",
    "\n",
    "\n",
    "\n",
    "\n",
    "raw_file.close()\n",
    "\n",
    "\n",
    "\n",
    "\n",
    "print(\"Doing validation now\")\n",
    "\n",
    "val_file = tables.open_file(f\"./val.h5\", mode='w')\n",
    "\n",
    "storage = {}\n",
    "for imgtype in imgtypes: #init arrays for each storage\n",
    "        storage[imgtype]= val_file.create_earray(val_file.root, imgtype, img_dtype[imgtype],  \n",
    "                                                  shape=np.append([0],block_shape[imgtype]))\n",
    "\n",
    "for file in validating:\n",
    "    for type in imgtypes:\n",
    "        path = file + r\"\\UH_\"+ file.rsplit(\"\\\\\",1)[-1] + \"_pre_ax_raw\" + (\"_label\" if type == \"label\" else \"\") + \"_resampled.mha\"\n",
    "        if path == r\"G:\\Shared drives\\INVent\\mfk58\\Dataset\\UH_Pre_Resampled\\RectalCA_077\\UH_RectalCA_077_pre_ax_raw_label_resampled.mha\":\n",
    "            path = r\"G:\\Shared drives\\INVent\\mfk58\\Dataset\\UH_Pre_Resampled\\RectalCA_077\\UH_RectalCA_077_pre_ax_label_resampled.mha\"\n",
    "        \n",
    "        image = sitk.ReadImage(path, imageIO=\"MetaImageIO\")\n",
    "        n = [np.transpose(sitk.GetArrayFromImage(image[:,:,i])) for i in range(image.GetDepth())]\n",
    "        print(np.array(n).shape)\n",
    "        #n = np.expand_dims(n,0)\n",
    "\n",
    "        storage[type].append(n)\n",
    "\n",
    "        print(path)\n",
    "        print('done')\n",
    "\n",
    "val_file.close()\n"
   ]
  },
  {
   "cell_type": "code",
   "execution_count": 63,
   "metadata": {},
   "outputs": [],
   "source": []
  },
  {
   "cell_type": "code",
   "execution_count": 64,
   "metadata": {},
   "outputs": [],
   "source": []
  },
  {
   "cell_type": "code",
   "execution_count": 61,
   "metadata": {},
   "outputs": [
    {
     "name": "stdout",
     "output_type": "stream",
     "text": [
      "64-bit float\n",
      "16-bit unsigned integer\n"
     ]
    }
   ],
   "source": [
    "# reading the image types\n",
    "\n",
    "file = r\"G:\\Shared drives\\INVent\\mfk58\\Dataset\\UH_Pre_Resampled\\RectalCA_133\\UH_RectalCA_133_pre_ax_raw_resampled.mha\"\n",
    "image = sitk.ReadImage(file, imageIO=\"MetaImageIO\")\n",
    "print(image.GetPixelIDTypeAsString()) \n",
    "\n",
    "file = r\"G:\\Shared drives\\INVent\\mfk58\\Dataset\\UH_Pre_Resampled\\RectalCA_133\\UH_RectalCA_133_pre_ax_raw_label_resampled.mha\"\n",
    "image = sitk.ReadImage(file, imageIO=\"MetaImageIO\")\n",
    "print(image.GetPixelIDTypeAsString()) "
   ]
  },
  {
   "attachments": {},
   "cell_type": "markdown",
   "metadata": {},
   "source": [
    "### Training the model\n",
    "\n",
    "Very little of what follows matters. It mostly is checking that CUDA, cuDNN, and other necessary things are working correctly\n",
    "\n",
    "##### What __is__ important is the following:\n",
    "\n",
    "If necessary, replace the pytorch install with one compatible with the CUDA version.\n",
    "\n",
    "Also, if pytorch is detecting multiple tensor devices, especially a CUDA enabled device and a CPU, run \n",
    "\n",
    "```\n",
    "conda env config vars set CUDA_VISIBLE_DEVICES = 'GPU_UUID_HERE'\n",
    "```\n",
    "This will correctly introduce the devices to use\n"
   ]
  },
  {
   "cell_type": "code",
   "execution_count": 1,
   "metadata": {},
   "outputs": [
    {
     "name": "stdout",
     "output_type": "stream",
     "text": [
      "Looking in indexes: https://download.pytorch.org/whl/nightly/cu121\n",
      "Requirement already satisfied: torch in c:\\users\\theev\\appdata\\local\\programs\\python\\python310\\lib\\site-packages (2.1.0.dev20230602+cu121)\n",
      "Requirement already satisfied: torchvision in c:\\users\\theev\\appdata\\local\\programs\\python\\python310\\lib\\site-packages (0.16.0.dev20230602+cu121)\n",
      "Requirement already satisfied: torchaudio in c:\\users\\theev\\appdata\\local\\programs\\python\\python310\\lib\\site-packages (2.1.0.dev20230602+cu121)\n",
      "Requirement already satisfied: fsspec in c:\\users\\theev\\appdata\\local\\programs\\python\\python310\\lib\\site-packages (from torch) (2023.4.0)\n",
      "Requirement already satisfied: jinja2 in c:\\users\\theev\\appdata\\local\\programs\\python\\python310\\lib\\site-packages (from torch) (3.1.2)\n",
      "Requirement already satisfied: sympy in c:\\users\\theev\\appdata\\local\\programs\\python\\python310\\lib\\site-packages (from torch) (1.11.1)\n",
      "Requirement already satisfied: networkx in c:\\users\\theev\\appdata\\local\\programs\\python\\python310\\lib\\site-packages (from torch) (3.0rc1)\n",
      "Requirement already satisfied: filelock in c:\\users\\theev\\appdata\\local\\programs\\python\\python310\\lib\\site-packages (from torch) (3.9.0)\n",
      "Requirement already satisfied: typing-extensions in c:\\users\\theev\\appdata\\local\\programs\\python\\python310\\lib\\site-packages (from torch) (4.4.0)\n",
      "Requirement already satisfied: pillow!=8.3.*,>=5.3.0 in c:\\users\\theev\\appdata\\local\\programs\\python\\python310\\lib\\site-packages (from torchvision) (9.5.0)\n",
      "Requirement already satisfied: numpy in c:\\users\\theev\\appdata\\local\\programs\\python\\python310\\lib\\site-packages (from torchvision) (1.24.3)\n",
      "Requirement already satisfied: requests in c:\\users\\theev\\appdata\\local\\programs\\python\\python310\\lib\\site-packages (from torchvision) (2.28.1)\n",
      "Requirement already satisfied: MarkupSafe>=2.0 in c:\\users\\theev\\appdata\\local\\programs\\python\\python310\\lib\\site-packages (from jinja2->torch) (2.1.2)\n",
      "Requirement already satisfied: charset-normalizer<3,>=2 in c:\\users\\theev\\appdata\\local\\programs\\python\\python310\\lib\\site-packages (from requests->torchvision) (2.1.1)\n",
      "Requirement already satisfied: certifi>=2017.4.17 in c:\\users\\theev\\appdata\\local\\programs\\python\\python310\\lib\\site-packages (from requests->torchvision) (2022.12.7)\n",
      "Requirement already satisfied: urllib3<1.27,>=1.21.1 in c:\\users\\theev\\appdata\\local\\programs\\python\\python310\\lib\\site-packages (from requests->torchvision) (1.26.13)\n",
      "Requirement already satisfied: idna<4,>=2.5 in c:\\users\\theev\\appdata\\local\\programs\\python\\python310\\lib\\site-packages (from requests->torchvision) (3.4)\n",
      "Requirement already satisfied: mpmath>=0.19 in c:\\users\\theev\\appdata\\local\\programs\\python\\python310\\lib\\site-packages (from sympy->torch) (1.2.1)\n",
      "Note: you may need to restart the kernel to use updated packages.\n"
     ]
    },
    {
     "name": "stderr",
     "output_type": "stream",
     "text": [
      "WARNING: You are using pip version 21.2.4; however, version 23.1.2 is available.\n",
      "You should consider upgrading via the 'c:\\Users\\theev\\AppData\\Local\\Programs\\Python\\Python310\\python.exe -m pip install --upgrade pip' command.\n"
     ]
    }
   ],
   "source": [
    "%pip install --pre torch torchvision torchaudio --index-url https://download.pytorch.org/whl/nightly/cu121"
   ]
  },
  {
   "cell_type": "code",
   "execution_count": 14,
   "metadata": {},
   "outputs": [
    {
     "name": "stdout",
     "output_type": "stream",
     "text": [
      "True\n",
      "1\n",
      "_CudaDeviceProperties(name='NVIDIA GeForce RTX 3060 Laptop GPU', major=8, minor=6, total_memory=6143MB, multi_processor_count=30)\n",
      "__Python VERSION: 3.10.1 (tags/v3.10.1:2cd268a, Dec  6 2021, 19:10:37) [MSC v.1929 64 bit (AMD64)]\n",
      "__pyTorch VERSION: 2.1.0.dev20230602+cu121\n",
      "__CUDA VERSION\n",
      "nvcc: NVIDIA (R) Cuda compiler driver__CUDNN VERSION: 8801\n",
      "__Number CUDA Devices: 1\n",
      "__Devices\n",
      "\n",
      "Copyright (c) 2005-2023 NVIDIA Corporation\n",
      "Built on Mon_Apr__3_17:36:15_Pacific_Daylight_Time_2023\n",
      "Cuda compilation tools, release 12.1, V12.1.105\n",
      "Build cuda_12.1.r12.1/compiler.32688072_0\n",
      "Active CUDA Device: GPU 0\n",
      "Available devices  1\n",
      "Current cuda device  0\n"
     ]
    }
   ],
   "source": [
    "import torch\n",
    "print(torch.cuda.is_available())\n",
    "print(torch.cuda.device_count())\n",
    "print(torch.cuda.get_device_properties(0))\n",
    "import torch\n",
    "import sys\n",
    "print('__Python VERSION:', sys.version)\n",
    "print('__pyTorch VERSION:', torch.__version__)\n",
    "print('__CUDA VERSION')\n",
    "from subprocess import call\n",
    "# call([\"nvcc\", \"--version\"]) does not work\n",
    "! nvcc --version\n",
    "print('__CUDNN VERSION:', torch.backends.cudnn.version())\n",
    "print('__Number CUDA Devices:', torch.cuda.device_count())\n",
    "print('__Devices')\n",
    "call([\"nvidia-smi\", \"--format=csv\", \"--query-gpu=index,name,driver_version,memory.total,memory.used,memory.free\"])\n",
    "print('Active CUDA Device: GPU', torch.cuda.current_device())\n",
    "print ('Available devices ', torch.cuda.device_count())\n",
    "print ('Current cuda device ', torch.cuda.current_device())"
   ]
  },
  {
   "cell_type": "code",
   "execution_count": 10,
   "metadata": {},
   "outputs": [
    {
     "data": {
      "text/plain": [
       "<attribute 'device' of 'torch._C._TensorBase' objects>"
      ]
     },
     "execution_count": 10,
     "metadata": {},
     "output_type": "execute_result"
    }
   ],
   "source": [
    "torch.Tensor.device"
   ]
  },
  {
   "cell_type": "code",
   "execution_count": 11,
   "metadata": {},
   "outputs": [
    {
     "name": "stdout",
     "output_type": "stream",
     "text": [
      "Collecting gputil\n",
      "  Downloading GPUtil-1.4.0.tar.gz (5.5 kB)\n",
      "Using legacy 'setup.py install' for gputil, since package 'wheel' is not installed.\n",
      "Installing collected packages: gputil\n",
      "    Running setup.py install for gputil: started\n",
      "    Running setup.py install for gputil: finished with status 'done'\n",
      "Successfully installed gputil-1.4.0\n",
      "Note: you may need to restart the kernel to use updated packages.\n"
     ]
    },
    {
     "name": "stderr",
     "output_type": "stream",
     "text": [
      "WARNING: You are using pip version 21.2.4; however, version 23.1.2 is available.\n",
      "You should consider upgrading via the 'c:\\Users\\theev\\AppData\\Local\\Programs\\Python\\Python310\\python.exe -m pip install --upgrade pip' command.\n"
     ]
    }
   ],
   "source": [
    "%pip install gputil"
   ]
  },
  {
   "cell_type": "code",
   "execution_count": 16,
   "metadata": {},
   "outputs": [
    {
     "data": {
      "text/plain": [
       "'GPU-169e5b45-a28f-0939-3716-0aa42920e279'"
      ]
     },
     "execution_count": 16,
     "metadata": {},
     "output_type": "execute_result"
    }
   ],
   "source": [
    "import GPUtil\n",
    "GPUtil.getGPUs()[0].uuid"
   ]
  }
 ],
 "metadata": {
  "kernelspec": {
   "display_name": "Python 3",
   "language": "python",
   "name": "python3"
  },
  "language_info": {
   "codemirror_mode": {
    "name": "ipython",
    "version": 3
   },
   "file_extension": ".py",
   "mimetype": "text/x-python",
   "name": "python",
   "nbconvert_exporter": "python",
   "pygments_lexer": "ipython3",
   "version": "3.10.1"
  },
  "orig_nbformat": 4
 },
 "nbformat": 4,
 "nbformat_minor": 2
}
