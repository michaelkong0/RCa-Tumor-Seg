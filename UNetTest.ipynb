{
 "cells": [
  {
   "attachments": {},
   "cell_type": "markdown",
   "metadata": {},
   "source": [
    "### 3D UNet test\n",
    "Trialing 3D UNet implementation found here: https://github.com/wolny/pytorch-3dunet"
   ]
  },
  {
   "attachments": {},
   "cell_type": "markdown",
   "metadata": {},
   "source": [
    "###Code to install and activate the correct conda environment \n",
    "conda install -c conda-forge mamba\n",
    "mamba create -n pytorch3dunet -c pytorch -c nvidia -c conda-forge -c awolny pytorch-3dunet\n",
    "conda activate pytorch3dunet\n",
    "\n",
    "#### Running the model\n",
    "__config files determine filepaths etc.__\n",
    "\n",
    "train3dunet --config <CONFIG>\n",
    "\n",
    "\n",
    "\n",
    "predict3dunet --config <CONFIG>\n"
   ]
  },
  {
   "cell_type": "code",
   "execution_count": 38,
   "metadata": {},
   "outputs": [
    {
     "name": "stdout",
     "output_type": "stream",
     "text": [
      "C:\\Users\\theev\\OneDrive\\Documents\\LAB\\Code\\3DUNetTest\n",
      " Volume in drive C is OS\n",
      " Volume Serial Number is 9427-9109\n",
      "\n",
      " Directory of C:\\Users\\theev\\OneDrive\\Documents\\LAB\\Code\\3DUNetTest\n",
      "\n",
      "06/01/2023  01:32 PM    <DIR>          .\n",
      "06/01/2023  01:32 PM    <DIR>          ..\n",
      "06/01/2023  01:31 PM    <DIR>          Checkpoint\n",
      "06/01/2023  01:32 PM             1,024 train.pytable\n",
      "06/01/2023  01:32 PM             1,024 val.pytable\n",
      "               2 File(s)          2,048 bytes\n",
      "               3 Dir(s)  323,808,464,896 bytes free\n"
     ]
    }
   ],
   "source": [
    "#create testing HDF5\n",
    "%cd C:\\Users\\theev\\OneDrive\\Documents\\LAB\\Code\\3DUNetTest\n",
    "%ls"
   ]
  },
  {
   "cell_type": "code",
   "execution_count": 18,
   "metadata": {},
   "outputs": [
    {
     "name": "stdout",
     "output_type": "stream",
     "text": [
      "Collecting tables\n",
      "  Using cached tables-3.8.0-cp310-cp310-win_amd64.whl (3.6 MB)\n",
      "Collecting numpy>=1.19.0\n",
      "  Using cached numpy-1.24.3-cp310-cp310-win_amd64.whl (14.8 MB)\n",
      "Collecting py-cpuinfo\n",
      "  Using cached py_cpuinfo-9.0.0-py3-none-any.whl (22 kB)\n",
      "Collecting numexpr>=2.6.2\n",
      "  Using cached numexpr-2.8.4-cp310-cp310-win_amd64.whl (92 kB)\n",
      "Collecting blosc2~=2.0.0\n",
      "  Using cached blosc2-2.0.0-cp310-cp310-win_amd64.whl (2.0 MB)\n",
      "Collecting cython>=0.29.21\n",
      "  Using cached Cython-0.29.35-py2.py3-none-any.whl (988 kB)\n",
      "Requirement already satisfied: packaging in c:\\users\\theev\\appdata\\roaming\\python\\python310\\site-packages (from tables) (23.0)\n",
      "Collecting msgpack\n",
      "  Using cached msgpack-1.0.5-cp310-cp310-win_amd64.whl (61 kB)\n",
      "Installing collected packages: py-cpuinfo, msgpack, numpy, cython, blosc2, numexpr, tables\n",
      "Successfully installed blosc2-2.0.0 cython-0.29.35 msgpack-1.0.5 numexpr-2.8.4 numpy-1.24.3 py-cpuinfo-9.0.0 tables-3.8.0\n",
      "Note: you may need to restart the kernel to use updated packages.\n"
     ]
    }
   ],
   "source": [
    "%pip install tables\n"
   ]
  },
  {
   "cell_type": "code",
   "execution_count": 87,
   "metadata": {},
   "outputs": [],
   "source": [
    "import tables\n",
    "import numpy as np\n",
    "img_dtype = {}\n",
    "img_dtype[\"raw\"] = tables.Float64Atom()  \n",
    "img_dtype[\"label\"] = tables.UInt16Atom()  \n",
    "filenameAtom = tables.StringAtom(itemsize=255) #hash\n",
    "\n",
    "imgtypes = [\"raw\",\"label\"]\n",
    "\n",
    "#brute force two filepaths\n",
    "training = [r\"G:\\Shared drives\\INVent\\mfk58\\Dataset\\UH_Pre_Resampled\\RectalCA_133\"]\n",
    "# ,r\"G:\\Shared drives\\INVent\\mfk58\\Dataset\\UH_Pre_Resampled\\RectalCA_077\"\n",
    "\n",
    "validating = [r\"G:\\Shared drives\\INVent\\mfk58\\Dataset\\UH_Pre_Resampled\\RectalCA_133\"]\n",
    "\n"
   ]
  },
  {
   "cell_type": "code",
   "execution_count": 91,
   "metadata": {},
   "outputs": [
    {
     "name": "stdout",
     "output_type": "stream",
     "text": [
      "(180, 180)\n",
      "(192, 180, 180)\n",
      "G:\\Shared drives\\INVent\\mfk58\\Dataset\\UH_Pre_Resampled\\RectalCA_133\\UH_RectalCA_133_pre_ax_raw_resampled.mha\n",
      "done\n",
      "(192, 180, 180)\n",
      "G:\\Shared drives\\INVent\\mfk58\\Dataset\\UH_Pre_Resampled\\RectalCA_133\\UH_RectalCA_133_pre_ax_raw_label_resampled.mha\n",
      "done\n",
      "Doing validation now\n",
      "(192, 180, 180)\n",
      "G:\\Shared drives\\INVent\\mfk58\\Dataset\\UH_Pre_Resampled\\RectalCA_133\\UH_RectalCA_133_pre_ax_raw_resampled.mha\n",
      "done\n",
      "(192, 180, 180)\n",
      "G:\\Shared drives\\INVent\\mfk58\\Dataset\\UH_Pre_Resampled\\RectalCA_133\\UH_RectalCA_133_pre_ax_raw_label_resampled.mha\n",
      "done\n"
     ]
    }
   ],
   "source": [
    "import SimpleITK as sitk\n",
    "\n",
    "raw_file = tables.open_file(f\"./train.h5\", mode='w') \n",
    "\n",
    "block_shape={} \n",
    "patch_size = 400\n",
    "\n",
    "reader = sitk.ImageFileReader()\n",
    "\n",
    "reader.SetFileName(r\"G:\\Shared drives\\INVent\\mfk58\\Dataset\\UH_Pre_Resampled\\RectalCA_133\\UH_RectalCA_133_pre_ax_raw_label_resampled.mha\")\n",
    "reader.LoadPrivateTagsOn()\n",
    "reader.ReadImageInformation()\n",
    "\n",
    "size = reader.GetSize()\n",
    "#str_size = (size[2],size[1],size[0])\n",
    "str_size = (size[1],size[0])\n",
    "print(str_size)\n",
    "\n",
    "\n",
    "block_shape[\"raw\"]= np.array(str_size) #3 color channels\n",
    "block_shape[\"label\"]= np.array(str_size) #black and white\n",
    "\n",
    "\n",
    "\n",
    "storage = {}\n",
    "for imgtype in imgtypes: #init arrays for each storage\n",
    "        storage[imgtype]= raw_file.create_earray(raw_file.root, imgtype, img_dtype[imgtype],  \n",
    "                                                  shape=np.append([0],block_shape[imgtype]))\n",
    "\n",
    "\n",
    "for file in training:\n",
    "    for type in imgtypes:\n",
    "        path = file + r\"\\UH_\"+ file.rsplit(\"\\\\\",1)[-1] + \"_pre_ax_raw\" + (\"_label\" if type == \"label\" else \"\") + \"_resampled.mha\"\n",
    "        if path == r\"G:\\Shared drives\\INVent\\mfk58\\Dataset\\UH_Pre_Resampled\\RectalCA_077\\UH_RectalCA_077_pre_ax_raw_label_resampled.mha\":\n",
    "            path = r\"G:\\Shared drives\\INVent\\mfk58\\Dataset\\UH_Pre_Resampled\\RectalCA_077\\UH_RectalCA_077_pre_ax_label_resampled.mha\"\n",
    "        \n",
    "        image = sitk.ReadImage(path, imageIO=\"MetaImageIO\")\n",
    "        n = [np.transpose(sitk.GetArrayFromImage(image[:,:,i])) for i in range(image.GetDepth())]\n",
    "        print(np.array(n).shape)\n",
    "        #n = np.expand_dims(n,0)\n",
    "\n",
    "        storage[type].append(n)\n",
    "\n",
    "        print(path)\n",
    "        print('done')\n",
    "\n",
    "    \n",
    "\n",
    "\n",
    "\n",
    "\n",
    "raw_file.close()\n",
    "\n",
    "\n",
    "\n",
    "\n",
    "print(\"Doing validation now\")\n",
    "\n",
    "val_file = tables.open_file(f\"./val.h5\", mode='w')\n",
    "\n",
    "storage = {}\n",
    "for imgtype in imgtypes: #init arrays for each storage\n",
    "        storage[imgtype]= val_file.create_earray(val_file.root, imgtype, img_dtype[imgtype],  \n",
    "                                                  shape=np.append([0],block_shape[imgtype]))\n",
    "\n",
    "for file in validating:\n",
    "    for type in imgtypes:\n",
    "        path = file + r\"\\UH_\"+ file.rsplit(\"\\\\\",1)[-1] + \"_pre_ax_raw\" + (\"_label\" if type == \"label\" else \"\") + \"_resampled.mha\"\n",
    "        if path == r\"G:\\Shared drives\\INVent\\mfk58\\Dataset\\UH_Pre_Resampled\\RectalCA_077\\UH_RectalCA_077_pre_ax_raw_label_resampled.mha\":\n",
    "            path = r\"G:\\Shared drives\\INVent\\mfk58\\Dataset\\UH_Pre_Resampled\\RectalCA_077\\UH_RectalCA_077_pre_ax_label_resampled.mha\"\n",
    "        \n",
    "        image = sitk.ReadImage(path, imageIO=\"MetaImageIO\")\n",
    "        n = [np.transpose(sitk.GetArrayFromImage(image[:,:,i])) for i in range(image.GetDepth())]\n",
    "        print(np.array(n).shape)\n",
    "        #n = np.expand_dims(n,0)\n",
    "\n",
    "        storage[type].append(n)\n",
    "\n",
    "        print(path)\n",
    "        print('done')\n",
    "\n",
    "val_file.close()\n"
   ]
  },
  {
   "cell_type": "code",
   "execution_count": 63,
   "metadata": {},
   "outputs": [],
   "source": []
  },
  {
   "cell_type": "code",
   "execution_count": 64,
   "metadata": {},
   "outputs": [],
   "source": []
  },
  {
   "cell_type": "code",
   "execution_count": 61,
   "metadata": {},
   "outputs": [
    {
     "name": "stdout",
     "output_type": "stream",
     "text": [
      "64-bit float\n",
      "16-bit unsigned integer\n"
     ]
    }
   ],
   "source": [
    "file = r\"G:\\Shared drives\\INVent\\mfk58\\Dataset\\UH_Pre_Resampled\\RectalCA_133\\UH_RectalCA_133_pre_ax_raw_resampled.mha\"\n",
    "image = sitk.ReadImage(file, imageIO=\"MetaImageIO\")\n",
    "print(image.GetPixelIDTypeAsString()) \n",
    "\n",
    "file = r\"G:\\Shared drives\\INVent\\mfk58\\Dataset\\UH_Pre_Resampled\\RectalCA_133\\UH_RectalCA_133_pre_ax_raw_label_resampled.mha\"\n",
    "image = sitk.ReadImage(file, imageIO=\"MetaImageIO\")\n",
    "print(image.GetPixelIDTypeAsString()) "
   ]
  },
  {
   "cell_type": "code",
   "execution_count": 94,
   "metadata": {},
   "outputs": [
    {
     "name": "stdout",
     "output_type": "stream",
     "text": [
      "Collecting torch\n",
      "  Downloading torch-2.0.1-cp310-cp310-win_amd64.whl (172.3 MB)\n",
      "     ---------------------------------------- 0.0/172.3 MB ? eta -:--:--\n",
      "     ---------------------------------------- 0.0/172.3 MB ? eta -:--:--\n",
      "     -------------------------------------- 0.1/172.3 MB 812.7 kB/s eta 0:03:32\n",
      "     ---------------------------------------- 0.5/172.3 MB 4.0 MB/s eta 0:00:43\n",
      "     --------------------------------------- 1.9/172.3 MB 10.9 MB/s eta 0:00:16\n",
      "      -------------------------------------- 3.4/172.3 MB 15.4 MB/s eta 0:00:11\n",
      "     - ------------------------------------- 4.7/172.3 MB 17.6 MB/s eta 0:00:10\n",
      "     - ------------------------------------- 5.7/172.3 MB 18.2 MB/s eta 0:00:10\n",
      "     - ------------------------------------- 6.6/172.3 MB 18.3 MB/s eta 0:00:10\n",
      "     - ------------------------------------- 7.8/172.3 MB 19.2 MB/s eta 0:00:09\n",
      "     -- ------------------------------------ 9.0/172.3 MB 19.8 MB/s eta 0:00:09\n",
      "     -- ------------------------------------ 9.8/172.3 MB 19.6 MB/s eta 0:00:09\n",
      "     -- ----------------------------------- 11.0/172.3 MB 25.2 MB/s eta 0:00:07\n",
      "     -- ----------------------------------- 12.3/172.3 MB 24.2 MB/s eta 0:00:07\n",
      "     --- ---------------------------------- 14.0/172.3 MB 25.2 MB/s eta 0:00:07\n",
      "     --- ---------------------------------- 15.3/172.3 MB 25.2 MB/s eta 0:00:07\n",
      "     --- ---------------------------------- 15.9/172.3 MB 24.2 MB/s eta 0:00:07\n",
      "     --- ---------------------------------- 16.8/172.3 MB 25.2 MB/s eta 0:00:07\n",
      "     --- ---------------------------------- 17.7/172.3 MB 23.4 MB/s eta 0:00:07\n",
      "     ---- --------------------------------- 18.8/172.3 MB 23.4 MB/s eta 0:00:07\n",
      "     ---- --------------------------------- 19.4/172.3 MB 23.4 MB/s eta 0:00:07\n",
      "     ---- --------------------------------- 20.6/172.3 MB 22.6 MB/s eta 0:00:07\n",
      "     ---- --------------------------------- 21.6/172.3 MB 22.6 MB/s eta 0:00:07\n",
      "     ----- -------------------------------- 23.0/172.3 MB 22.6 MB/s eta 0:00:07\n",
      "     ----- -------------------------------- 24.0/172.3 MB 21.8 MB/s eta 0:00:07\n",
      "     ----- -------------------------------- 25.0/172.3 MB 21.1 MB/s eta 0:00:07\n",
      "     ----- -------------------------------- 26.5/172.3 MB 22.5 MB/s eta 0:00:07\n",
      "     ------ ------------------------------- 27.8/172.3 MB 23.4 MB/s eta 0:00:07\n",
      "     ------ ------------------------------- 29.1/172.3 MB 25.2 MB/s eta 0:00:06\n",
      "     ------ ------------------------------- 30.4/172.3 MB 26.2 MB/s eta 0:00:06\n",
      "     ------- ------------------------------ 31.9/172.3 MB 27.3 MB/s eta 0:00:06\n",
      "     ------- ------------------------------ 33.3/172.3 MB 28.5 MB/s eta 0:00:05\n",
      "     ------- ------------------------------ 34.5/172.3 MB 29.7 MB/s eta 0:00:05\n",
      "     ------- ------------------------------ 36.0/172.3 MB 29.7 MB/s eta 0:00:05\n",
      "     -------- ----------------------------- 37.5/172.3 MB 29.7 MB/s eta 0:00:05\n",
      "     -------- ----------------------------- 38.9/172.3 MB 29.8 MB/s eta 0:00:05\n",
      "     -------- ----------------------------- 40.0/172.3 MB 29.8 MB/s eta 0:00:05\n",
      "     --------- ---------------------------- 41.6/172.3 MB 28.4 MB/s eta 0:00:05\n",
      "     --------- ---------------------------- 43.1/172.3 MB 28.4 MB/s eta 0:00:05\n",
      "     --------- ---------------------------- 44.4/172.3 MB 29.7 MB/s eta 0:00:05\n",
      "     ---------- --------------------------- 45.8/172.3 MB 28.5 MB/s eta 0:00:05\n",
      "     ---------- --------------------------- 47.3/172.3 MB 28.5 MB/s eta 0:00:05\n",
      "     ---------- --------------------------- 48.6/172.3 MB 28.5 MB/s eta 0:00:05\n",
      "     ----------- -------------------------- 50.1/172.3 MB 29.7 MB/s eta 0:00:05\n",
      "     ----------- -------------------------- 51.2/172.3 MB 28.5 MB/s eta 0:00:05\n",
      "     ----------- -------------------------- 52.0/172.3 MB 27.3 MB/s eta 0:00:05\n",
      "     ----------- -------------------------- 53.5/172.3 MB 27.3 MB/s eta 0:00:05\n",
      "     ------------ ------------------------- 55.0/172.3 MB 27.3 MB/s eta 0:00:05\n",
      "     ------------ ------------------------- 56.5/172.3 MB 28.5 MB/s eta 0:00:05\n",
      "     ------------ ------------------------- 58.2/172.3 MB 28.5 MB/s eta 0:00:05\n",
      "     ------------- ------------------------ 59.9/172.3 MB 29.7 MB/s eta 0:00:04\n",
      "     ------------- ------------------------ 61.4/172.3 MB 31.2 MB/s eta 0:00:04\n",
      "     ------------- ------------------------ 63.0/172.3 MB 34.4 MB/s eta 0:00:04\n",
      "     -------------- ----------------------- 64.7/172.3 MB 34.4 MB/s eta 0:00:04\n",
      "     -------------- ----------------------- 66.2/172.3 MB 34.4 MB/s eta 0:00:04\n",
      "     -------------- ----------------------- 67.8/172.3 MB 34.4 MB/s eta 0:00:04\n",
      "     --------------- ---------------------- 69.3/172.3 MB 34.6 MB/s eta 0:00:03\n",
      "     --------------- ---------------------- 71.0/172.3 MB 34.4 MB/s eta 0:00:03\n",
      "     --------------- ---------------------- 72.4/172.3 MB 32.8 MB/s eta 0:00:04\n",
      "     ---------------- --------------------- 73.9/172.3 MB 32.8 MB/s eta 0:00:04\n",
      "     ---------------- --------------------- 75.4/172.3 MB 32.7 MB/s eta 0:00:03\n",
      "     ---------------- --------------------- 76.6/172.3 MB 31.2 MB/s eta 0:00:04\n",
      "     ----------------- -------------------- 78.2/172.3 MB 31.2 MB/s eta 0:00:04\n",
      "     ----------------- -------------------- 79.7/172.3 MB 31.1 MB/s eta 0:00:03\n",
      "     ----------------- -------------------- 81.2/172.3 MB 31.2 MB/s eta 0:00:03\n",
      "     ------------------ ------------------- 82.6/172.3 MB 31.2 MB/s eta 0:00:03\n",
      "     ------------------ ------------------- 84.0/172.3 MB 31.2 MB/s eta 0:00:03\n",
      "     ------------------ ------------------- 85.0/172.3 MB 31.2 MB/s eta 0:00:03\n",
      "     ------------------ ------------------- 85.6/172.3 MB 27.3 MB/s eta 0:00:04\n",
      "     ------------------- ------------------ 87.0/172.3 MB 27.3 MB/s eta 0:00:04\n",
      "     ------------------- ------------------ 88.5/172.3 MB 27.3 MB/s eta 0:00:04\n",
      "     ------------------- ------------------ 89.6/172.3 MB 26.2 MB/s eta 0:00:04\n",
      "     -------------------- ----------------- 91.2/172.3 MB 26.2 MB/s eta 0:00:04\n",
      "     -------------------- ----------------- 92.8/172.3 MB 27.3 MB/s eta 0:00:03\n",
      "     -------------------- ----------------- 94.3/172.3 MB 27.3 MB/s eta 0:00:03\n",
      "     --------------------- ---------------- 95.8/172.3 MB 32.8 MB/s eta 0:00:03\n",
      "     --------------------- ---------------- 97.4/172.3 MB 32.7 MB/s eta 0:00:03\n",
      "     --------------------- ---------------- 98.8/172.3 MB 31.2 MB/s eta 0:00:03\n",
      "     --------------------- --------------- 100.2/172.3 MB 32.7 MB/s eta 0:00:03\n",
      "     --------------------- --------------- 101.6/172.3 MB 31.1 MB/s eta 0:00:03\n",
      "     ---------------------- -------------- 102.8/172.3 MB 31.2 MB/s eta 0:00:03\n",
      "     ---------------------- -------------- 104.1/172.3 MB 29.8 MB/s eta 0:00:03\n",
      "     ---------------------- -------------- 105.7/172.3 MB 29.7 MB/s eta 0:00:03\n",
      "     ---------------------- -------------- 107.0/172.3 MB 29.7 MB/s eta 0:00:03\n",
      "     ----------------------- ------------- 108.5/172.3 MB 29.7 MB/s eta 0:00:03\n",
      "     ----------------------- ------------- 109.6/172.3 MB 28.4 MB/s eta 0:00:03\n",
      "     ----------------------- ------------- 110.2/172.3 MB 27.3 MB/s eta 0:00:03\n",
      "     ----------------------- ------------- 111.4/172.3 MB 26.2 MB/s eta 0:00:03\n",
      "     ------------------------ ------------ 112.8/172.3 MB 26.2 MB/s eta 0:00:03\n",
      "     ------------------------ ------------ 114.1/172.3 MB 26.2 MB/s eta 0:00:03\n",
      "     ------------------------ ------------ 115.5/172.3 MB 26.2 MB/s eta 0:00:03\n",
      "     ------------------------- ----------- 116.8/172.3 MB 26.2 MB/s eta 0:00:03\n",
      "     ------------------------- ----------- 118.3/172.3 MB 26.2 MB/s eta 0:00:03\n",
      "     ------------------------- ----------- 119.9/172.3 MB 27.3 MB/s eta 0:00:02\n",
      "     -------------------------- ---------- 121.3/172.3 MB 29.7 MB/s eta 0:00:02\n",
      "     -------------------------- ---------- 122.8/172.3 MB 29.7 MB/s eta 0:00:02\n",
      "     -------------------------- ---------- 124.2/172.3 MB 31.2 MB/s eta 0:00:02\n",
      "     -------------------------- ---------- 125.7/172.3 MB 31.2 MB/s eta 0:00:02\n",
      "     --------------------------- --------- 127.4/172.3 MB 32.8 MB/s eta 0:00:02\n",
      "     --------------------------- --------- 128.8/172.3 MB 31.2 MB/s eta 0:00:02\n",
      "     --------------------------- --------- 130.4/172.3 MB 31.2 MB/s eta 0:00:02\n",
      "     ---------------------------- -------- 132.0/172.3 MB 32.7 MB/s eta 0:00:02\n",
      "     ---------------------------- -------- 133.5/172.3 MB 32.7 MB/s eta 0:00:02\n",
      "     ---------------------------- -------- 135.1/172.3 MB 32.7 MB/s eta 0:00:02\n",
      "     ----------------------------- ------- 136.7/172.3 MB 32.8 MB/s eta 0:00:02\n",
      "     ----------------------------- ------- 138.1/172.3 MB 32.8 MB/s eta 0:00:02\n",
      "     ----------------------------- ------- 139.5/172.3 MB 32.8 MB/s eta 0:00:02\n",
      "     ------------------------------ ------ 140.8/172.3 MB 31.2 MB/s eta 0:00:02\n",
      "     ------------------------------ ------ 142.3/172.3 MB 31.2 MB/s eta 0:00:01\n",
      "     ------------------------------ ------ 143.9/172.3 MB 31.2 MB/s eta 0:00:01\n",
      "     ------------------------------- ----- 145.5/172.3 MB 31.2 MB/s eta 0:00:01\n",
      "     ------------------------------- ----- 146.7/172.3 MB 31.1 MB/s eta 0:00:01\n",
      "     ------------------------------- ----- 148.2/172.3 MB 31.2 MB/s eta 0:00:01\n",
      "     -------------------------------- ---- 149.8/172.3 MB 31.2 MB/s eta 0:00:01\n",
      "     -------------------------------- ---- 151.2/172.3 MB 31.2 MB/s eta 0:00:01\n",
      "     -------------------------------- ---- 152.8/172.3 MB 31.2 MB/s eta 0:00:01\n",
      "     --------------------------------- --- 154.4/172.3 MB 32.7 MB/s eta 0:00:01\n",
      "     --------------------------------- --- 155.9/172.3 MB 32.7 MB/s eta 0:00:01\n",
      "     --------------------------------- --- 157.5/172.3 MB 32.7 MB/s eta 0:00:01\n",
      "     ---------------------------------- -- 159.1/172.3 MB 32.7 MB/s eta 0:00:01\n",
      "     ---------------------------------- -- 160.7/172.3 MB 32.8 MB/s eta 0:00:01\n",
      "     ---------------------------------- -- 162.3/172.3 MB 34.4 MB/s eta 0:00:01\n",
      "     ----------------------------------- - 163.9/172.3 MB 34.4 MB/s eta 0:00:01\n",
      "     ----------------------------------- - 164.9/172.3 MB 34.6 MB/s eta 0:00:01\n",
      "     ----------------------------------- - 166.1/172.3 MB 31.2 MB/s eta 0:00:01\n",
      "     ----------------------------------- - 167.3/172.3 MB 29.7 MB/s eta 0:00:01\n",
      "     ------------------------------------  168.8/172.3 MB 29.7 MB/s eta 0:00:01\n",
      "     ------------------------------------  169.6/172.3 MB 28.5 MB/s eta 0:00:01\n",
      "     ------------------------------------  170.1/172.3 MB 25.2 MB/s eta 0:00:01\n",
      "     ------------------------------------  171.5/172.3 MB 26.2 MB/s eta 0:00:01\n",
      "     ------------------------------------  172.3/172.3 MB 26.2 MB/s eta 0:00:01\n",
      "     ------------------------------------  172.3/172.3 MB 26.2 MB/s eta 0:00:01\n",
      "     ------------------------------------  172.3/172.3 MB 26.2 MB/s eta 0:00:01\n",
      "     ------------------------------------  172.3/172.3 MB 26.2 MB/s eta 0:00:01\n",
      "     ------------------------------------  172.3/172.3 MB 26.2 MB/s eta 0:00:01\n",
      "     ------------------------------------  172.3/172.3 MB 26.2 MB/s eta 0:00:01\n",
      "     ------------------------------------- 172.3/172.3 MB 13.1 MB/s eta 0:00:00\n",
      "Collecting networkx\n",
      "  Downloading networkx-3.1-py3-none-any.whl (2.1 MB)\n",
      "     ---------------------------------------- 0.0/2.1 MB ? eta -:--:--\n",
      "     ----------------------- ---------------- 1.2/2.1 MB 25.9 MB/s eta 0:00:01\n",
      "     ---------------------------------------  2.1/2.1 MB 21.9 MB/s eta 0:00:01\n",
      "     ---------------------------------------- 2.1/2.1 MB 21.9 MB/s eta 0:00:00\n",
      "Collecting filelock\n",
      "  Downloading filelock-3.12.0-py3-none-any.whl (10 kB)\n",
      "Collecting sympy\n",
      "  Downloading sympy-1.12-py3-none-any.whl (5.7 MB)\n",
      "     ---------------------------------------- 0.0/5.7 MB ? eta -:--:--\n",
      "     --------- ------------------------------ 1.4/5.7 MB 43.2 MB/s eta 0:00:01\n",
      "     ------------------ --------------------- 2.7/5.7 MB 34.3 MB/s eta 0:00:01\n",
      "     ----------------------------- ---------- 4.3/5.7 MB 34.0 MB/s eta 0:00:01\n",
      "     -------------------------------------- - 5.5/5.7 MB 32.1 MB/s eta 0:00:01\n",
      "     ---------------------------------------- 5.7/5.7 MB 30.5 MB/s eta 0:00:00\n",
      "Collecting jinja2\n",
      "  Downloading Jinja2-3.1.2-py3-none-any.whl (133 kB)\n",
      "     ---------------------------------------- 0.0/133.1 kB ? eta -:--:--\n",
      "     ---------------------------------------- 133.1/133.1 kB ? eta 0:00:00\n",
      "Collecting typing-extensions\n",
      "  Downloading typing_extensions-4.6.2-py3-none-any.whl (31 kB)\n",
      "Collecting MarkupSafe>=2.0\n",
      "  Downloading MarkupSafe-2.1.2-cp310-cp310-win_amd64.whl (16 kB)\n",
      "Collecting mpmath>=0.19\n",
      "  Downloading mpmath-1.3.0-py3-none-any.whl (536 kB)\n",
      "     ---------------------------------------- 0.0/536.2 kB ? eta -:--:--\n",
      "     ------------------------------------  532.5/536.2 kB 16.8 MB/s eta 0:00:01\n",
      "     ------------------------------------- 536.2/536.2 kB 17.0 MB/s eta 0:00:00\n",
      "Installing collected packages: mpmath, typing-extensions, sympy, networkx, MarkupSafe, filelock, jinja2, torch\n",
      "Successfully installed MarkupSafe-2.1.2 filelock-3.12.0 jinja2-3.1.2 mpmath-1.3.0 networkx-3.1 sympy-1.12 torch-2.0.1 typing-extensions-4.6.2\n",
      "Note: you may need to restart the kernel to use updated packages.\n"
     ]
    }
   ],
   "source": [
    "%pip install torch"
   ]
  },
  {
   "cell_type": "code",
   "execution_count": 14,
   "metadata": {},
   "outputs": [
    {
     "name": "stdout",
     "output_type": "stream",
     "text": [
      "True\n",
      "1\n",
      "_CudaDeviceProperties(name='NVIDIA GeForce RTX 3060 Laptop GPU', major=8, minor=6, total_memory=6143MB, multi_processor_count=30)\n",
      "__Python VERSION: 3.10.1 (tags/v3.10.1:2cd268a, Dec  6 2021, 19:10:37) [MSC v.1929 64 bit (AMD64)]\n",
      "__pyTorch VERSION: 2.1.0.dev20230602+cu121\n",
      "__CUDA VERSION\n",
      "nvcc: NVIDIA (R) Cuda compiler driver__CUDNN VERSION: 8801\n",
      "__Number CUDA Devices: 1\n",
      "__Devices\n",
      "\n",
      "Copyright (c) 2005-2023 NVIDIA Corporation\n",
      "Built on Mon_Apr__3_17:36:15_Pacific_Daylight_Time_2023\n",
      "Cuda compilation tools, release 12.1, V12.1.105\n",
      "Build cuda_12.1.r12.1/compiler.32688072_0\n",
      "Active CUDA Device: GPU 0\n",
      "Available devices  1\n",
      "Current cuda device  0\n"
     ]
    }
   ],
   "source": [
    "import torch\n",
    "print(torch.cuda.is_available())\n",
    "print(torch.cuda.device_count())\n",
    "print(torch.cuda.get_device_properties(0))\n",
    "import torch\n",
    "import sys\n",
    "print('__Python VERSION:', sys.version)\n",
    "print('__pyTorch VERSION:', torch.__version__)\n",
    "print('__CUDA VERSION')\n",
    "from subprocess import call\n",
    "# call([\"nvcc\", \"--version\"]) does not work\n",
    "! nvcc --version\n",
    "print('__CUDNN VERSION:', torch.backends.cudnn.version())\n",
    "print('__Number CUDA Devices:', torch.cuda.device_count())\n",
    "print('__Devices')\n",
    "call([\"nvidia-smi\", \"--format=csv\", \"--query-gpu=index,name,driver_version,memory.total,memory.used,memory.free\"])\n",
    "print('Active CUDA Device: GPU', torch.cuda.current_device())\n",
    "print ('Available devices ', torch.cuda.device_count())\n",
    "print ('Current cuda device ', torch.cuda.current_device())"
   ]
  },
  {
   "cell_type": "code",
   "execution_count": 10,
   "metadata": {},
   "outputs": [
    {
     "data": {
      "text/plain": [
       "<attribute 'device' of 'torch._C._TensorBase' objects>"
      ]
     },
     "execution_count": 10,
     "metadata": {},
     "output_type": "execute_result"
    }
   ],
   "source": [
    "torch.Tensor.device"
   ]
  },
  {
   "cell_type": "code",
   "execution_count": 1,
   "metadata": {},
   "outputs": [
    {
     "name": "stdout",
     "output_type": "stream",
     "text": [
      "Looking in indexes: https://download.pytorch.org/whl/nightly/cu121\n",
      "Requirement already satisfied: torch in c:\\users\\theev\\appdata\\local\\programs\\python\\python310\\lib\\site-packages (2.1.0.dev20230602+cu121)\n",
      "Requirement already satisfied: torchvision in c:\\users\\theev\\appdata\\local\\programs\\python\\python310\\lib\\site-packages (0.16.0.dev20230602+cu121)\n",
      "Requirement already satisfied: torchaudio in c:\\users\\theev\\appdata\\local\\programs\\python\\python310\\lib\\site-packages (2.1.0.dev20230602+cu121)\n",
      "Requirement already satisfied: fsspec in c:\\users\\theev\\appdata\\local\\programs\\python\\python310\\lib\\site-packages (from torch) (2023.4.0)\n",
      "Requirement already satisfied: jinja2 in c:\\users\\theev\\appdata\\local\\programs\\python\\python310\\lib\\site-packages (from torch) (3.1.2)\n",
      "Requirement already satisfied: sympy in c:\\users\\theev\\appdata\\local\\programs\\python\\python310\\lib\\site-packages (from torch) (1.11.1)\n",
      "Requirement already satisfied: networkx in c:\\users\\theev\\appdata\\local\\programs\\python\\python310\\lib\\site-packages (from torch) (3.0rc1)\n",
      "Requirement already satisfied: filelock in c:\\users\\theev\\appdata\\local\\programs\\python\\python310\\lib\\site-packages (from torch) (3.9.0)\n",
      "Requirement already satisfied: typing-extensions in c:\\users\\theev\\appdata\\local\\programs\\python\\python310\\lib\\site-packages (from torch) (4.4.0)\n",
      "Requirement already satisfied: pillow!=8.3.*,>=5.3.0 in c:\\users\\theev\\appdata\\local\\programs\\python\\python310\\lib\\site-packages (from torchvision) (9.5.0)\n",
      "Requirement already satisfied: numpy in c:\\users\\theev\\appdata\\local\\programs\\python\\python310\\lib\\site-packages (from torchvision) (1.24.3)\n",
      "Requirement already satisfied: requests in c:\\users\\theev\\appdata\\local\\programs\\python\\python310\\lib\\site-packages (from torchvision) (2.28.1)\n",
      "Requirement already satisfied: MarkupSafe>=2.0 in c:\\users\\theev\\appdata\\local\\programs\\python\\python310\\lib\\site-packages (from jinja2->torch) (2.1.2)\n",
      "Requirement already satisfied: charset-normalizer<3,>=2 in c:\\users\\theev\\appdata\\local\\programs\\python\\python310\\lib\\site-packages (from requests->torchvision) (2.1.1)\n",
      "Requirement already satisfied: certifi>=2017.4.17 in c:\\users\\theev\\appdata\\local\\programs\\python\\python310\\lib\\site-packages (from requests->torchvision) (2022.12.7)\n",
      "Requirement already satisfied: urllib3<1.27,>=1.21.1 in c:\\users\\theev\\appdata\\local\\programs\\python\\python310\\lib\\site-packages (from requests->torchvision) (1.26.13)\n",
      "Requirement already satisfied: idna<4,>=2.5 in c:\\users\\theev\\appdata\\local\\programs\\python\\python310\\lib\\site-packages (from requests->torchvision) (3.4)\n",
      "Requirement already satisfied: mpmath>=0.19 in c:\\users\\theev\\appdata\\local\\programs\\python\\python310\\lib\\site-packages (from sympy->torch) (1.2.1)\n",
      "Note: you may need to restart the kernel to use updated packages.\n"
     ]
    },
    {
     "name": "stderr",
     "output_type": "stream",
     "text": [
      "WARNING: You are using pip version 21.2.4; however, version 23.1.2 is available.\n",
      "You should consider upgrading via the 'c:\\Users\\theev\\AppData\\Local\\Programs\\Python\\Python310\\python.exe -m pip install --upgrade pip' command.\n"
     ]
    }
   ],
   "source": [
    "%pip install --pre torch torchvision torchaudio --index-url https://download.pytorch.org/whl/nightly/cu121"
   ]
  },
  {
   "cell_type": "code",
   "execution_count": 11,
   "metadata": {},
   "outputs": [
    {
     "name": "stdout",
     "output_type": "stream",
     "text": [
      "Collecting gputil\n",
      "  Downloading GPUtil-1.4.0.tar.gz (5.5 kB)\n",
      "Using legacy 'setup.py install' for gputil, since package 'wheel' is not installed.\n",
      "Installing collected packages: gputil\n",
      "    Running setup.py install for gputil: started\n",
      "    Running setup.py install for gputil: finished with status 'done'\n",
      "Successfully installed gputil-1.4.0\n",
      "Note: you may need to restart the kernel to use updated packages.\n"
     ]
    },
    {
     "name": "stderr",
     "output_type": "stream",
     "text": [
      "WARNING: You are using pip version 21.2.4; however, version 23.1.2 is available.\n",
      "You should consider upgrading via the 'c:\\Users\\theev\\AppData\\Local\\Programs\\Python\\Python310\\python.exe -m pip install --upgrade pip' command.\n"
     ]
    }
   ],
   "source": [
    "%pip install gputil"
   ]
  },
  {
   "cell_type": "code",
   "execution_count": 16,
   "metadata": {},
   "outputs": [
    {
     "data": {
      "text/plain": [
       "'GPU-169e5b45-a28f-0939-3716-0aa42920e279'"
      ]
     },
     "execution_count": 16,
     "metadata": {},
     "output_type": "execute_result"
    }
   ],
   "source": [
    "import GPUtil\n",
    "GPUtil.getGPUs()[0].uuid"
   ]
  }
 ],
 "metadata": {
  "kernelspec": {
   "display_name": "Python 3",
   "language": "python",
   "name": "python3"
  },
  "language_info": {
   "codemirror_mode": {
    "name": "ipython",
    "version": 3
   },
   "file_extension": ".py",
   "mimetype": "text/x-python",
   "name": "python",
   "nbconvert_exporter": "python",
   "pygments_lexer": "ipython3",
   "version": "3.10.1"
  },
  "orig_nbformat": 4
 },
 "nbformat": 4,
 "nbformat_minor": 2
}
