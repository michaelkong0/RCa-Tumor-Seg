{
 "cells": [
  {
   "attachments": {},
   "cell_type": "markdown",
   "metadata": {},
   "source": [
    "### 3D UNet test\n",
    "Trialing 3D UNet implementation found here: https://github.com/wolny/pytorch-3dunet"
   ]
  },
  {
   "attachments": {},
   "cell_type": "markdown",
   "metadata": {},
   "source": [
    "###Code to install and activate the correct conda environment \n",
    "conda install -c conda-forge mamba\n",
    "mamba create -n pytorch3dunet -c pytorch -c nvidia -c conda-forge -c awolny pytorch-3dunet\n",
    "conda activate pytorch3dunet\n",
    "\n",
    "#### Running the model\n",
    "__config files determine filepaths etc.__\n",
    "\n",
    "train3dunet --config <CONFIG>\n",
    "\n",
    "\n",
    "\n",
    "predict3dunet --config <CONFIG>\n"
   ]
  },
  {
   "cell_type": "code",
   "execution_count": 38,
   "metadata": {},
   "outputs": [
    {
     "name": "stdout",
     "output_type": "stream",
     "text": [
      "C:\\Users\\theev\\OneDrive\\Documents\\LAB\\Code\\3DUNetTest\n",
      " Volume in drive C is OS\n",
      " Volume Serial Number is 9427-9109\n",
      "\n",
      " Directory of C:\\Users\\theev\\OneDrive\\Documents\\LAB\\Code\\3DUNetTest\n",
      "\n",
      "06/01/2023  01:32 PM    <DIR>          .\n",
      "06/01/2023  01:32 PM    <DIR>          ..\n",
      "06/01/2023  01:31 PM    <DIR>          Checkpoint\n",
      "06/01/2023  01:32 PM             1,024 train.pytable\n",
      "06/01/2023  01:32 PM             1,024 val.pytable\n",
      "               2 File(s)          2,048 bytes\n",
      "               3 Dir(s)  323,808,464,896 bytes free\n"
     ]
    }
   ],
   "source": [
    "#create testing HDF5\n",
    "%cd C:\\Users\\theev\\OneDrive\\Documents\\LAB\\Code\\3DUNetTest\n",
    "%ls"
   ]
  },
  {
   "cell_type": "code",
   "execution_count": 18,
   "metadata": {},
   "outputs": [
    {
     "name": "stdout",
     "output_type": "stream",
     "text": [
      "Collecting tables\n",
      "  Using cached tables-3.8.0-cp310-cp310-win_amd64.whl (3.6 MB)\n",
      "Collecting numpy>=1.19.0\n",
      "  Using cached numpy-1.24.3-cp310-cp310-win_amd64.whl (14.8 MB)\n",
      "Collecting py-cpuinfo\n",
      "  Using cached py_cpuinfo-9.0.0-py3-none-any.whl (22 kB)\n",
      "Collecting numexpr>=2.6.2\n",
      "  Using cached numexpr-2.8.4-cp310-cp310-win_amd64.whl (92 kB)\n",
      "Collecting blosc2~=2.0.0\n",
      "  Using cached blosc2-2.0.0-cp310-cp310-win_amd64.whl (2.0 MB)\n",
      "Collecting cython>=0.29.21\n",
      "  Using cached Cython-0.29.35-py2.py3-none-any.whl (988 kB)\n",
      "Requirement already satisfied: packaging in c:\\users\\theev\\appdata\\roaming\\python\\python310\\site-packages (from tables) (23.0)\n",
      "Collecting msgpack\n",
      "  Using cached msgpack-1.0.5-cp310-cp310-win_amd64.whl (61 kB)\n",
      "Installing collected packages: py-cpuinfo, msgpack, numpy, cython, blosc2, numexpr, tables\n",
      "Successfully installed blosc2-2.0.0 cython-0.29.35 msgpack-1.0.5 numexpr-2.8.4 numpy-1.24.3 py-cpuinfo-9.0.0 tables-3.8.0\n",
      "Note: you may need to restart the kernel to use updated packages.\n"
     ]
    }
   ],
   "source": [
    "%pip install tables\n"
   ]
  },
  {
   "cell_type": "code",
   "execution_count": 87,
   "metadata": {},
   "outputs": [],
   "source": [
    "import tables\n",
    "import numpy as np\n",
    "img_dtype = {}\n",
    "img_dtype[\"raw\"] = tables.Float64Atom()  \n",
    "img_dtype[\"label\"] = tables.UInt16Atom()  \n",
    "filenameAtom = tables.StringAtom(itemsize=255) #hash\n",
    "\n",
    "imgtypes = [\"raw\",\"label\"]\n",
    "\n",
    "#brute force two filepaths\n",
    "training = [r\"G:\\Shared drives\\INVent\\mfk58\\Dataset\\UH_Pre_Resampled\\RectalCA_133\"]\n",
    "# ,r\"G:\\Shared drives\\INVent\\mfk58\\Dataset\\UH_Pre_Resampled\\RectalCA_077\"\n",
    "\n",
    "validating = [r\"G:\\Shared drives\\INVent\\mfk58\\Dataset\\UH_Pre_Resampled\\RectalCA_133\"]\n",
    "\n"
   ]
  },
  {
   "cell_type": "code",
   "execution_count": 90,
   "metadata": {},
   "outputs": [
    {
     "name": "stdout",
     "output_type": "stream",
     "text": [
      "(192, 180, 180)\n",
      "(192, 180, 180)\n",
      "G:\\Shared drives\\INVent\\mfk58\\Dataset\\UH_Pre_Resampled\\RectalCA_133\\UH_RectalCA_133_pre_ax_raw_resampled.mha\n",
      "done\n",
      "(192, 180, 180)\n",
      "G:\\Shared drives\\INVent\\mfk58\\Dataset\\UH_Pre_Resampled\\RectalCA_133\\UH_RectalCA_133_pre_ax_raw_label_resampled.mha\n",
      "done\n",
      "Doing validation now\n",
      "(192, 180, 180)\n",
      "G:\\Shared drives\\INVent\\mfk58\\Dataset\\UH_Pre_Resampled\\RectalCA_133\\UH_RectalCA_133_pre_ax_raw_resampled.mha\n",
      "done\n",
      "(192, 180, 180)\n",
      "G:\\Shared drives\\INVent\\mfk58\\Dataset\\UH_Pre_Resampled\\RectalCA_133\\UH_RectalCA_133_pre_ax_raw_label_resampled.mha\n",
      "done\n"
     ]
    }
   ],
   "source": [
    "raw_file.close()\n",
    "val_file.close()\n",
    "\n",
    "raw_file = tables.open_file(f\"./train.h5\", mode='w') \n",
    "\n",
    "block_shape={} \n",
    "patch_size = 400\n",
    "\n",
    "reader.SetFileName(r\"G:\\Shared drives\\INVent\\mfk58\\Dataset\\UH_Pre_Resampled\\RectalCA_133\\UH_RectalCA_133_pre_ax_raw_label_resampled.mha\")\n",
    "reader.LoadPrivateTagsOn()\n",
    "reader.ReadImageInformation()\n",
    "\n",
    "size = reader.GetSize()\n",
    "str_size = (size[2],size[1],size[0])\n",
    "print(str_size)\n",
    "\n",
    "\n",
    "block_shape[\"raw\"]= np.array(str_size) #3 color channels\n",
    "block_shape[\"label\"]= np.array(str_size) #black and white\n",
    "\n",
    "\n",
    "\n",
    "storage = {}\n",
    "for imgtype in imgtypes: #init arrays for each storage\n",
    "        storage[imgtype]= raw_file.create_earray(raw_file.root, imgtype, img_dtype[imgtype],  \n",
    "                                                  shape=np.append([0],block_shape[imgtype]))\n",
    "\n",
    "\n",
    "for file in training:\n",
    "    for type in imgtypes:\n",
    "        path = file + r\"\\UH_\"+ file.rsplit(\"\\\\\",1)[-1] + \"_pre_ax_raw\" + (\"_label\" if type == \"label\" else \"\") + \"_resampled.mha\"\n",
    "        if path == r\"G:\\Shared drives\\INVent\\mfk58\\Dataset\\UH_Pre_Resampled\\RectalCA_077\\UH_RectalCA_077_pre_ax_raw_label_resampled.mha\":\n",
    "            path = r\"G:\\Shared drives\\INVent\\mfk58\\Dataset\\UH_Pre_Resampled\\RectalCA_077\\UH_RectalCA_077_pre_ax_label_resampled.mha\"\n",
    "        \n",
    "        image = sitk.ReadImage(path, imageIO=\"MetaImageIO\")\n",
    "        n = [np.transpose(sitk.GetArrayFromImage(image[:,:,i])) for i in range(image.GetDepth())]\n",
    "        print(np.array(n).shape)\n",
    "        n = np.expand_dims(n,0)\n",
    "\n",
    "        storage[type].append(n)\n",
    "\n",
    "        print(path)\n",
    "        print('done')\n",
    "\n",
    "    \n",
    "\n",
    "\n",
    "\n",
    "\n",
    "raw_file.close()\n",
    "\n",
    "\n",
    "\n",
    "\n",
    "print(\"Doing validation now\")\n",
    "\n",
    "val_file = tables.open_file(f\"./val.h5\", mode='w')\n",
    "\n",
    "storage = {}\n",
    "for imgtype in imgtypes: #init arrays for each storage\n",
    "        storage[imgtype]= val_file.create_earray(val_file.root, imgtype, img_dtype[imgtype],  \n",
    "                                                  shape=np.append([0],block_shape[imgtype]))\n",
    "\n",
    "for file in validating:\n",
    "    for type in imgtypes:\n",
    "        path = file + r\"\\UH_\"+ file.rsplit(\"\\\\\",1)[-1] + \"_pre_ax_raw\" + (\"_label\" if type == \"label\" else \"\") + \"_resampled.mha\"\n",
    "        if path == r\"G:\\Shared drives\\INVent\\mfk58\\Dataset\\UH_Pre_Resampled\\RectalCA_077\\UH_RectalCA_077_pre_ax_raw_label_resampled.mha\":\n",
    "            path = r\"G:\\Shared drives\\INVent\\mfk58\\Dataset\\UH_Pre_Resampled\\RectalCA_077\\UH_RectalCA_077_pre_ax_label_resampled.mha\"\n",
    "        \n",
    "        image = sitk.ReadImage(path, imageIO=\"MetaImageIO\")\n",
    "        n = [np.transpose(sitk.GetArrayFromImage(image[:,:,i])) for i in range(image.GetDepth())]\n",
    "        print(np.array(n).shape)\n",
    "        n = np.expand_dims(n,0)\n",
    "\n",
    "        storage[type].append(n)\n",
    "\n",
    "        print(path)\n",
    "        print('done')\n",
    "\n",
    "val_file.close()\n"
   ]
  },
  {
   "cell_type": "code",
   "execution_count": 63,
   "metadata": {},
   "outputs": [],
   "source": []
  },
  {
   "cell_type": "code",
   "execution_count": 64,
   "metadata": {},
   "outputs": [],
   "source": []
  },
  {
   "cell_type": "code",
   "execution_count": 61,
   "metadata": {},
   "outputs": [
    {
     "name": "stdout",
     "output_type": "stream",
     "text": [
      "64-bit float\n",
      "16-bit unsigned integer\n"
     ]
    }
   ],
   "source": [
    "file = r\"G:\\Shared drives\\INVent\\mfk58\\Dataset\\UH_Pre_Resampled\\RectalCA_133\\UH_RectalCA_133_pre_ax_raw_resampled.mha\"\n",
    "image = sitk.ReadImage(file, imageIO=\"MetaImageIO\")\n",
    "print(image.GetPixelIDTypeAsString()) \n",
    "\n",
    "file = r\"G:\\Shared drives\\INVent\\mfk58\\Dataset\\UH_Pre_Resampled\\RectalCA_133\\UH_RectalCA_133_pre_ax_raw_label_resampled.mha\"\n",
    "image = sitk.ReadImage(file, imageIO=\"MetaImageIO\")\n",
    "print(image.GetPixelIDTypeAsString()) "
   ]
  }
 ],
 "metadata": {
  "kernelspec": {
   "display_name": "Python 3",
   "language": "python",
   "name": "python3"
  },
  "language_info": {
   "codemirror_mode": {
    "name": "ipython",
    "version": 3
   },
   "file_extension": ".py",
   "mimetype": "text/x-python",
   "name": "python",
   "nbconvert_exporter": "python",
   "pygments_lexer": "ipython3",
   "version": "3.10.11"
  },
  "orig_nbformat": 4
 },
 "nbformat": 4,
 "nbformat_minor": 2
}
