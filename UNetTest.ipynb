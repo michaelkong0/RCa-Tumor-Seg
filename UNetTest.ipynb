{
 "cells": [
  {
   "attachments": {},
   "cell_type": "markdown",
   "metadata": {},
   "source": [
    "### 3D UNet test\n",
    "Trialing 3D UNet implementation found here: https://github.com/wolny/pytorch-3dunet"
   ]
  },
  {
   "attachments": {},
   "cell_type": "markdown",
   "metadata": {},
   "source": [
    "###Code to install and activate the correct conda environment \n",
    "\n",
    "In cmd line with a conda environment:\n",
    "```\n",
    "conda install -c conda-forge mamba\n",
    "mamba create -n pytorch3dunet -c pytorch -c nvidia -c conda-forge -c awolny pytorch-3dunet\n",
    "conda activate pytorch3dunet\n",
    "```\n",
    "\n",
    "#### Running the model\n",
    "__config files determine filepaths etc.__\n",
    "\n",
    "train3dunet --config <CONFIG>\n",
    "\n",
    "\n",
    "\n",
    "predict3dunet --config <CONFIG>\n"
   ]
  },
  {
   "cell_type": "code",
   "execution_count": 5,
   "metadata": {},
   "outputs": [
    {
     "name": "stdout",
     "output_type": "stream",
     "text": [
      "C:\\Users\\theev\\OneDrive\\Documents\\LAB\\Code\\3DUNetTest\n",
      " Volume in drive C is OS\n",
      " Volume Serial Number is 9427-9109\n",
      "\n",
      " Directory of C:\\Users\\theev\\OneDrive\\Documents\\LAB\\Code\\3DUNetTest\n",
      "\n",
      "06/06/2023  01:27 PM    <DIR>          .\n",
      "06/06/2023  01:27 PM    <DIR>          ..\n",
      "06/08/2023  11:45 AM    <DIR>          Checkpoint\n",
      "06/06/2023  01:27 PM    <DIR>          output\n",
      "06/14/2023  01:24 PM                 0 test.h5\n",
      "06/06/2023  02:39 PM        62,825,224 train.h5\n",
      "06/06/2023  02:39 PM        62,825,224 val.h5\n",
      "               3 File(s)    125,650,448 bytes\n",
      "               4 Dir(s)  247,493,861,376 bytes free\n"
     ]
    }
   ],
   "source": [
    "#create testing HDF5\n",
    "%cd C:\\Users\\theev\\OneDrive\\Documents\\LAB\\Code\\3DUNetTest\n",
    "%ls"
   ]
  },
  {
   "cell_type": "code",
   "execution_count": 6,
   "metadata": {},
   "outputs": [
    {
     "name": "stdout",
     "output_type": "stream",
     "text": [
      "Requirement already satisfied: tables in c:\\users\\theev\\appdata\\local\\programs\\python\\python310\\lib\\site-packages (3.8.0)\n",
      "Requirement already satisfied: blosc2~=2.0.0 in c:\\users\\theev\\appdata\\local\\programs\\python\\python310\\lib\\site-packages (from tables) (2.0.0)\n",
      "Requirement already satisfied: numpy>=1.19.0 in c:\\users\\theev\\appdata\\local\\programs\\python\\python310\\lib\\site-packages (from tables) (1.24.3)\n",
      "Requirement already satisfied: numexpr>=2.6.2 in c:\\users\\theev\\appdata\\local\\programs\\python\\python310\\lib\\site-packages (from tables) (2.8.4)\n",
      "Requirement already satisfied: packaging in c:\\users\\theev\\appdata\\roaming\\python\\python310\\site-packages (from tables) (23.0)\n",
      "Requirement already satisfied: cython>=0.29.21 in c:\\users\\theev\\appdata\\local\\programs\\python\\python310\\lib\\site-packages (from tables) (0.29.35)\n",
      "Requirement already satisfied: py-cpuinfo in c:\\users\\theev\\appdata\\local\\programs\\python\\python310\\lib\\site-packages (from tables) (9.0.0)\n",
      "Requirement already satisfied: msgpack in c:\\users\\theev\\appdata\\local\\programs\\python\\python310\\lib\\site-packages (from blosc2~=2.0.0->tables) (1.0.5)\n",
      "Note: you may need to restart the kernel to use updated packages.\n"
     ]
    },
    {
     "name": "stderr",
     "output_type": "stream",
     "text": [
      "WARNING: You are using pip version 21.2.4; however, version 23.1.2 is available.\n",
      "You should consider upgrading via the 'c:\\Users\\theev\\AppData\\Local\\Programs\\Python\\Python310\\python.exe -m pip install --upgrade pip' command.\n"
     ]
    }
   ],
   "source": [
    "%pip install tables\n"
   ]
  },
  {
   "cell_type": "code",
   "execution_count": 9,
   "metadata": {},
   "outputs": [],
   "source": [
    "import tables\n",
    "import numpy as np\n",
    "img_dtype = {}\n",
    "img_dtype[\"raw\"] = \"float64\"  \n",
    "img_dtype[\"label\"] = \"int16\"\n",
    "\n",
    "imgtypes = [\"raw\",\"label\"]\n",
    "\n",
    "#brute force training and validation things\n",
    "training = [r\"G:\\Shared drives\\INVent\\mfk58\\Dataset\\UH_Pre_Resampled\\RectalCA_133\"]\n",
    "# ,r\"G:\\Shared drives\\INVent\\mfk58\\Dataset\\UH_Pre_Resampled\\RectalCA_077\"\n",
    "\n",
    "validating = [r\"G:\\Shared drives\\INVent\\mfk58\\Dataset\\UH_Pre_Resampled\\RectalCA_133\"]\n",
    "\n"
   ]
  },
  {
   "cell_type": "code",
   "execution_count": 13,
   "metadata": {},
   "outputs": [
    {
     "name": "stdout",
     "output_type": "stream",
     "text": [
      "(0, 180, 180)\n",
      "(192, 180, 180)\n",
      "G:\\Shared drives\\INVent\\mfk58\\Dataset\\UH_Pre_Resampled\\RectalCA_133\\UH_RectalCA_133_pre_ax_raw_resampled.mha\n",
      "done\n",
      "(192, 180, 180)\n",
      "G:\\Shared drives\\INVent\\mfk58\\Dataset\\UH_Pre_Resampled\\RectalCA_133\\UH_RectalCA_133_pre_ax_raw_label_resampled.mha\n",
      "done\n",
      "Doing validation now\n",
      "(192, 180, 180)\n",
      "G:\\Shared drives\\INVent\\mfk58\\Dataset\\UH_Pre_Resampled\\RectalCA_133\\UH_RectalCA_133_pre_ax_raw_resampled.mha\n",
      "done\n",
      "(192, 180, 180)\n",
      "G:\\Shared drives\\INVent\\mfk58\\Dataset\\UH_Pre_Resampled\\RectalCA_133\\UH_RectalCA_133_pre_ax_raw_label_resampled.mha\n",
      "done\n"
     ]
    }
   ],
   "source": [
    "import SimpleITK as sitk\n",
    "import h5py as h5\n",
    "\n",
    "\n",
    "reader = sitk.ImageFileReader()\n",
    "reader.SetFileName(r\"G:\\Shared drives\\INVent\\mfk58\\Dataset\\UH_Pre_Resampled\\RectalCA_133\\UH_RectalCA_133_pre_ax_raw_label_resampled.mha\")\n",
    "reader.LoadPrivateTagsOn()\n",
    "reader.ReadImageInformation()\n",
    "\n",
    "size = reader.GetSize()\n",
    "str_size = (0,size[0],size[1])\n",
    "max_size = (None,size[0],size[1])\n",
    "print(str_size)\n",
    "\n",
    "raw_file = h5.File(r\"C:\\Users\\theev\\OneDrive\\Documents\\LAB\\Code\\3DUNetTest\\train.h5\", \"w\")\n",
    "block_shape={} \n",
    "\n",
    "def filterA(a,val):\n",
    "    arr = np.array(a)\n",
    "    arr[arr != val] = 0\n",
    "    arr = arr\n",
    "    return arr.tolist()\n",
    "\n",
    "\n",
    "\n",
    "\n",
    "\n",
    "dset = {}\n",
    "for imgtype in imgtypes: #init arrays for each storage\n",
    "        dset[imgtype]= raw_file.create_dataset(name= imgtype, shape=str_size,maxshape=max_size,dtype=img_dtype[imgtype])\n",
    "\n",
    "\n",
    "for file in training:\n",
    "    for type in imgtypes:\n",
    "        path = file + r\"\\UH_\"+ file.rsplit(\"\\\\\",1)[-1] + \"_pre_ax_raw\" + (\"_label\" if type == \"label\" else \"\") + \"_resampled.mha\"\n",
    "        if path == r\"G:\\Shared drives\\INVent\\mfk58\\Dataset\\UH_Pre_Resampled\\RectalCA_077\\UH_RectalCA_077_pre_ax_raw_label_resampled.mha\":\n",
    "            path = r\"G:\\Shared drives\\INVent\\mfk58\\Dataset\\UH_Pre_Resampled\\RectalCA_077\\UH_RectalCA_077_pre_ax_label_resampled.mha\"\n",
    "        \n",
    "        image = sitk.ReadImage(path, imageIO=\"MetaImageIO\")\n",
    "        n = [sitk.GetArrayFromImage(image[:,:,i]) for i in range(image.GetDepth())]\n",
    "        arr = np.array(n)\n",
    "        print(arr.shape)\n",
    "        #n = np.expand_dims(n,0)\n",
    "\n",
    "        if (type == \"label\"):\n",
    "            n = filterA(n,1)\n",
    "        s = dset[type].shape[0]\n",
    "        dset[type].resize(dset[type].shape[0]+arr.shape[0], axis=0)\n",
    "\n",
    "        temp = dset[type]\n",
    "        for i in range(arr.shape[0]):\n",
    "            slice = n[i]\n",
    "            temp[s+i] = slice\n",
    "        dset[type] = temp\n",
    "        print(path)\n",
    "        print('done')\n",
    "\n",
    "    \n",
    "\n",
    "\n",
    "\n",
    "\n",
    "raw_file.close()\n",
    "\n",
    "\n",
    "\n",
    "\n",
    "\n",
    "\n",
    "\n",
    "print(\"Doing validation now\")\n",
    "\n",
    "val_file = h5.File(r\"C:\\Users\\theev\\OneDrive\\Documents\\LAB\\Code\\3DUNetTest\\val.h5\", \"w\")\n",
    "\n",
    "dset = {}\n",
    "for imgtype in imgtypes: #init arrays for each storage\n",
    "        dset[imgtype]= val_file.create_dataset(name= imgtype, shape=str_size,maxshape=max_size,dtype=img_dtype[imgtype])\n",
    "\n",
    "for file in validating:\n",
    "    for type in imgtypes:\n",
    "        path = file + r\"\\UH_\"+ file.rsplit(\"\\\\\",1)[-1] + \"_pre_ax_raw\" + (\"_label\" if type == \"label\" else \"\") + \"_resampled.mha\"\n",
    "        if path == r\"G:\\Shared drives\\INVent\\mfk58\\Dataset\\UH_Pre_Resampled\\RectalCA_077\\UH_RectalCA_077_pre_ax_raw_label_resampled.mha\":\n",
    "            path = r\"G:\\Shared drives\\INVent\\mfk58\\Dataset\\UH_Pre_Resampled\\RectalCA_077\\UH_RectalCA_077_pre_ax_label_resampled.mha\"\n",
    "        \n",
    "        image = sitk.ReadImage(path, imageIO=\"MetaImageIO\")\n",
    "        n = [sitk.GetArrayFromImage(image[:,:,i]) for i in range(image.GetDepth())]\n",
    "        arr = np.array(n)\n",
    "        print(arr.shape)\n",
    "        #n = np.expand_dims(n,0)\n",
    "\n",
    "        if (type == \"label\"):\n",
    "            n = filterA(n,1)\n",
    "        s = dset[type].shape[0]\n",
    "        dset[type].resize(dset[type].shape[0]+arr.shape[0], axis=0)\n",
    "\n",
    "        temp = dset[type]\n",
    "        for i in range(arr.shape[0]):\n",
    "            slice = n[i]\n",
    "            temp[s+i] = slice\n",
    "        dset[type] = temp\n",
    "        print(path)\n",
    "        print('done')\n",
    "\n",
    "\n",
    "    \n",
    "\n",
    "val_file.close()\n",
    "\n",
    "\n"
   ]
  },
  {
   "cell_type": "code",
   "execution_count": 12,
   "metadata": {},
   "outputs": [],
   "source": [
    "raw_file.close()\n",
    "#val_file.close()"
   ]
  },
  {
   "cell_type": "code",
   "execution_count": 64,
   "metadata": {},
   "outputs": [],
   "source": []
  },
  {
   "cell_type": "code",
   "execution_count": 9,
   "metadata": {},
   "outputs": [
    {
     "name": "stdout",
     "output_type": "stream",
     "text": [
      "64-bit float\n",
      "16-bit unsigned integer\n"
     ]
    }
   ],
   "source": [
    "# reading the image types\n",
    "\n",
    "file = r\"G:\\Shared drives\\INVent\\mfk58\\Dataset\\UH_Pre_Resampled\\RectalCA_133\\UH_RectalCA_133_pre_ax_raw_resampled.mha\"\n",
    "image = sitk.ReadImage(file, imageIO=\"MetaImageIO\")\n",
    "print(image.GetPixelIDTypeAsString()) \n",
    "\n",
    "file = r\"G:\\Shared drives\\INVent\\mfk58\\Dataset\\UH_Pre_Resampled\\RectalCA_133\\UH_RectalCA_133_pre_ax_raw_label_resampled.mha\"\n",
    "image = sitk.ReadImage(file, imageIO=\"MetaImageIO\")\n",
    "print(image.GetPixelIDTypeAsString()) "
   ]
  },
  {
   "attachments": {},
   "cell_type": "markdown",
   "metadata": {},
   "source": [
    "### Training the model\n",
    "\n",
    "Most important is checking that CUDA, cuDNN, and other necessary things are working correctly\n",
    "\n",
    "Also, if pytorch is detecting multiple tensor devices, especially a CUDA enabled device and a CPU, run \n",
    "\n",
    "```\n",
    "conda env config vars set CUDA_VISIBLE_DEVICES = 'GPU_UUID_HERE'\n",
    "```\n",
    "This will correctly introduce the devices to use on Win10\n"
   ]
  },
  {
   "cell_type": "code",
   "execution_count": 4,
   "metadata": {},
   "outputs": [
    {
     "name": "stdout",
     "output_type": "stream",
     "text": [
      "Looking in indexes: https://download.pytorch.org/whl/nightly/cu121\n",
      "Requirement already satisfied: torch in c:\\users\\theev\\appdata\\local\\programs\\python\\python310\\lib\\site-packages (2.1.0.dev20230602+cu121)\n",
      "Requirement already satisfied: torchvision in c:\\users\\theev\\appdata\\local\\programs\\python\\python310\\lib\\site-packages (0.16.0.dev20230602+cu121)\n",
      "Requirement already satisfied: torchaudio in c:\\users\\theev\\appdata\\local\\programs\\python\\python310\\lib\\site-packages (2.1.0.dev20230602+cu121)\n",
      "Requirement already satisfied: fsspec in c:\\users\\theev\\appdata\\local\\programs\\python\\python310\\lib\\site-packages (from torch) (2023.4.0)\n",
      "Requirement already satisfied: jinja2 in c:\\users\\theev\\appdata\\local\\programs\\python\\python310\\lib\\site-packages (from torch) (3.1.2)\n",
      "Requirement already satisfied: filelock in c:\\users\\theev\\appdata\\local\\programs\\python\\python310\\lib\\site-packages (from torch) (3.9.0)\n",
      "Requirement already satisfied: sympy in c:\\users\\theev\\appdata\\local\\programs\\python\\python310\\lib\\site-packages (from torch) (1.11.1)\n",
      "Requirement already satisfied: networkx in c:\\users\\theev\\appdata\\local\\programs\\python\\python310\\lib\\site-packages (from torch) (3.0rc1)\n",
      "Requirement already satisfied: typing-extensions in c:\\users\\theev\\appdata\\local\\programs\\python\\python310\\lib\\site-packages (from torch) (4.4.0)\n",
      "Requirement already satisfied: numpy in c:\\users\\theev\\appdata\\local\\programs\\python\\python310\\lib\\site-packages (from torchvision) (1.24.3)\n",
      "Requirement already satisfied: requests in c:\\users\\theev\\appdata\\local\\programs\\python\\python310\\lib\\site-packages (from torchvision) (2.28.1)\n",
      "Requirement already satisfied: pillow!=8.3.*,>=5.3.0 in c:\\users\\theev\\appdata\\local\\programs\\python\\python310\\lib\\site-packages (from torchvision) (9.5.0)\n",
      "Requirement already satisfied: MarkupSafe>=2.0 in c:\\users\\theev\\appdata\\local\\programs\\python\\python310\\lib\\site-packages (from jinja2->torch) (2.1.2)\n",
      "Requirement already satisfied: idna<4,>=2.5 in c:\\users\\theev\\appdata\\local\\programs\\python\\python310\\lib\\site-packages (from requests->torchvision) (3.4)\n",
      "Requirement already satisfied: certifi>=2017.4.17 in c:\\users\\theev\\appdata\\local\\programs\\python\\python310\\lib\\site-packages (from requests->torchvision) (2022.12.7)\n",
      "Requirement already satisfied: urllib3<1.27,>=1.21.1 in c:\\users\\theev\\appdata\\local\\programs\\python\\python310\\lib\\site-packages (from requests->torchvision) (1.26.13)\n",
      "Requirement already satisfied: charset-normalizer<3,>=2 in c:\\users\\theev\\appdata\\local\\programs\\python\\python310\\lib\\site-packages (from requests->torchvision) (2.1.1)\n",
      "Requirement already satisfied: mpmath>=0.19 in c:\\users\\theev\\appdata\\local\\programs\\python\\python310\\lib\\site-packages (from sympy->torch) (1.2.1)\n",
      "Note: you may need to restart the kernel to use updated packages.\n"
     ]
    },
    {
     "name": "stderr",
     "output_type": "stream",
     "text": [
      "WARNING: You are using pip version 21.2.4; however, version 23.1.2 is available.\n",
      "You should consider upgrading via the 'c:\\Users\\theev\\AppData\\Local\\Programs\\Python\\Python310\\python.exe -m pip install --upgrade pip' command.\n"
     ]
    }
   ],
   "source": [
    "#correct install of torch and such\n",
    "\n",
    "%pip install --pre torch torchvision torchaudio --index-url https://download.pytorch.org/whl/nightly/cu121"
   ]
  },
  {
   "cell_type": "code",
   "execution_count": 7,
   "metadata": {},
   "outputs": [
    {
     "name": "stdout",
     "output_type": "stream",
     "text": [
      "True\n",
      "1\n",
      "_CudaDeviceProperties(name='NVIDIA GeForce RTX 3060 Laptop GPU', major=8, minor=6, total_memory=6143MB, multi_processor_count=30)\n",
      "__Python VERSION: 3.10.1 (tags/v3.10.1:2cd268a, Dec  6 2021, 19:10:37) [MSC v.1929 64 bit (AMD64)]\n",
      "__pyTorch VERSION: 2.1.0.dev20230602+cu121\n",
      "__CUDA VERSION\n",
      "nvcc: NVIDIA (R) Cuda compiler driver\n",
      "Copyright (c) 2005-2023 NVIDIA Corporation\n",
      "Built on Mon_Apr__3_17:36:15_Pacific_Daylight_Time_2023\n",
      "Cuda compilation tools, release 12.1, V12.1.105\n",
      "Build cuda_12.1.r12.1/compiler.32688072_0\n",
      "__CUDNN VERSION: 8801\n",
      "__Number CUDA Devices: 1\n",
      "__Devices\n",
      "Active CUDA Device: GPU 0\n",
      "Available devices  1\n",
      "Current cuda device  0\n"
     ]
    }
   ],
   "source": [
    "##from StackOverflow, returns information on the GPU, checks that cuDNN is installed\n",
    "\n",
    "import torch\n",
    "print(torch.cuda.is_available())\n",
    "print(torch.cuda.device_count())\n",
    "print(torch.cuda.get_device_properties(0))\n",
    "import torch\n",
    "import sys\n",
    "print('__Python VERSION:', sys.version)\n",
    "print('__pyTorch VERSION:', torch.__version__)\n",
    "print('__CUDA VERSION')\n",
    "from subprocess import call\n",
    "# call([\"nvcc\", \"--version\"]) does not work\n",
    "! nvcc --version\n",
    "print('__CUDNN VERSION:', torch.backends.cudnn.version())\n",
    "print('__Number CUDA Devices:', torch.cuda.device_count())\n",
    "print('__Devices')\n",
    "call([\"nvidia-smi\", \"--format=csv\", \"--query-gpu=index,name,driver_version,memory.total,memory.used,memory.free\"])\n",
    "print('Active CUDA Device: GPU', torch.cuda.current_device())\n",
    "print ('Available devices ', torch.cuda.device_count())\n",
    "print ('Current cuda device ', torch.cuda.current_device())"
   ]
  },
  {
   "cell_type": "code",
   "execution_count": 8,
   "metadata": {},
   "outputs": [
    {
     "name": "stdout",
     "output_type": "stream",
     "text": [
      "Requirement already satisfied: gputil in c:\\users\\theev\\appdata\\local\\programs\\python\\python310\\lib\\site-packages (1.4.0)\n",
      "Note: you may need to restart the kernel to use updated packages.\n"
     ]
    },
    {
     "name": "stderr",
     "output_type": "stream",
     "text": [
      "WARNING: You are using pip version 21.2.4; however, version 23.1.2 is available.\n",
      "You should consider upgrading via the 'c:\\Users\\theev\\AppData\\Local\\Programs\\Python\\Python310\\python.exe -m pip install --upgrade pip' command.\n"
     ]
    }
   ],
   "source": [
    "%pip install gputil"
   ]
  },
  {
   "cell_type": "code",
   "execution_count": 30,
   "metadata": {},
   "outputs": [
    {
     "data": {
      "text/plain": [
       "'GPU-169e5b45-a28f-0939-3716-0aa42920e279'"
      ]
     },
     "execution_count": 30,
     "metadata": {},
     "output_type": "execute_result"
    }
   ],
   "source": [
    "###get uuid, needed for limiting the cuda visible devices\n",
    "\n",
    "import GPUtil\n",
    "GPUtil.getGPUs()[0].uuid"
   ]
  },
  {
   "attachments": {},
   "cell_type": "markdown",
   "metadata": {},
   "source": [
    "### Convert output into mask\n"
   ]
  },
  {
   "cell_type": "code",
   "execution_count": 2,
   "metadata": {},
   "outputs": [
    {
     "name": "stderr",
     "output_type": "stream",
     "text": [
      "WARNING: You are using pip version 21.2.4; however, version 23.1.2 is available.\n",
      "You should consider upgrading via the 'c:\\Users\\theev\\AppData\\Local\\Programs\\Python\\Python310\\python.exe -m pip install --upgrade pip' command.\n"
     ]
    },
    {
     "name": "stdout",
     "output_type": "stream",
     "text": [
      "Requirement already satisfied: h5py in c:\\users\\theev\\appdata\\local\\programs\\python\\python310\\lib\\site-packages (3.8.0)\n",
      "Requirement already satisfied: numpy>=1.14.5 in c:\\users\\theev\\appdata\\local\\programs\\python\\python310\\lib\\site-packages (from h5py) (1.24.3)\n",
      "Note: you may need to restart the kernel to use updated packages.\n"
     ]
    }
   ],
   "source": [
    "%pip install h5py\n",
    "import h5py as h5"
   ]
  },
  {
   "cell_type": "code",
   "execution_count": 15,
   "metadata": {},
   "outputs": [],
   "source": [
    "test_file.close()"
   ]
  },
  {
   "cell_type": "code",
   "execution_count": 16,
   "metadata": {},
   "outputs": [
    {
     "name": "stdout",
     "output_type": "stream",
     "text": [
      "(192, 180, 180)\n",
      "G:\\Shared drives\\INVent\\mfk58\\Dataset\\UH_Pre_Resampled\\RectalCA_133\\UH_RectalCA_133_pre_ax_raw_resampled.mha\n",
      "done\n"
     ]
    }
   ],
   "source": [
    "test_file = h5.File(r\"C:\\Users\\theev\\OneDrive\\Documents\\LAB\\Code\\3DUNetTest\\test.h5\", \"w\")\n",
    "dset = test_file.create_dataset(name = \"raw\", shape = (0, 180, 180), maxshape = (None,180,180), dtype=\"float64\")\n",
    "\n",
    "\n",
    "\n",
    "for file in validating:\n",
    "    for type in imgtypes:\n",
    "        if(type == \"label\"):\n",
    "            continue\n",
    "        path = file + r\"\\UH_\"+ file.rsplit(\"\\\\\",1)[-1] + \"_pre_ax_raw\" + (\"_label\" if type == \"label\" else \"\") + \"_resampled.mha\"\n",
    "        if path == r\"G:\\Shared drives\\INVent\\mfk58\\Dataset\\UH_Pre_Resampled\\RectalCA_077\\UH_RectalCA_077_pre_ax_raw_label_resampled.mha\":\n",
    "            path = r\"G:\\Shared drives\\INVent\\mfk58\\Dataset\\UH_Pre_Resampled\\RectalCA_077\\UH_RectalCA_077_pre_ax_label_resampled.mha\"\n",
    "        \n",
    "        image = sitk.ReadImage(path, imageIO=\"MetaImageIO\")\n",
    "        n = [sitk.GetArrayFromImage(image[:,:,i]) for i in range(image.GetDepth())]\n",
    "        arr = np.array(n)\n",
    "        print(arr.shape)\n",
    "        #n = np.expand_dims(n,0)\n",
    "        s = dset.shape[0]\n",
    "        dset.resize(dset.shape[0]+arr.shape[0], axis=0)\n",
    "        for i in range(arr.shape[0]):\n",
    "            dset[s+i] = n[i]\n",
    "        print(path)\n",
    "        print('done')\n",
    "\n",
    "\n",
    "test_file.close()"
   ]
  },
  {
   "cell_type": "code",
   "execution_count": 24,
   "metadata": {},
   "outputs": [
    {
     "name": "stdout",
     "output_type": "stream",
     "text": [
      "<HDF5 dataset \"predictions\": shape (1, 192, 180, 180), type \"<f4\">\n",
      "(192, 180, 180)\n"
     ]
    }
   ],
   "source": [
    "import SimpleITK as sitk\n",
    "import h5py as h5\n",
    "\n",
    "path = r\"C:\\Users\\theev\\OneDrive\\Documents\\LAB\\Code\\3DUNetTest\\output\\test_predictions.h5\"\n",
    "table = h5.File(path,'r')\n",
    "list(table.keys())\n",
    "\n",
    "predictions = table['predictions']\n",
    "print(predictions)\n",
    "print(predictions[0].shape)\n",
    "\n",
    "\n",
    "p = predictions[0]\n",
    "\n",
    "def filterB(a,val):\n",
    "    arr = np.array(a)\n",
    "    arr[arr < val] = 0\n",
    "\n",
    "    arr[arr != 0] = 1\n",
    "    return arr\n",
    "\n",
    "\n",
    "\n",
    "p = filterB(p,.85)\n",
    "\n",
    "mask = sitk.GetImageFromArray(p)\n",
    "table.close()\n",
    "\n"
   ]
  },
  {
   "cell_type": "code",
   "execution_count": 26,
   "metadata": {},
   "outputs": [],
   "source": []
  },
  {
   "cell_type": "code",
   "execution_count": 26,
   "metadata": {},
   "outputs": [
    {
     "name": "stdout",
     "output_type": "stream",
     "text": [
      "C:\\Users\\theev\\OneDrive\\Documents\\LAB\\Code\\3DUNetTest\\output\n"
     ]
    }
   ],
   "source": [
    "%cd  C:\\Users\\theev\\OneDrive\\Documents\\LAB\\Code\\3DUNetTest\\output"
   ]
  },
  {
   "cell_type": "code",
   "execution_count": 27,
   "metadata": {},
   "outputs": [],
   "source": [
    "sitk.WriteImage(mask,\"mask.mha\")"
   ]
  },
  {
   "cell_type": "code",
   "execution_count": 25,
   "metadata": {},
   "outputs": [],
   "source": [
    "import SimpleITK as sitk\n",
    "grid_image = mask #sitk image object\n",
    "\n",
    "image_viewer = sitk.ImageViewer()\n",
    "image_viewer.SetTitle('Python image viewer') #arbitrary\n",
    "image_viewer.SetApplication(r'C:\\Program Files\\ITK-SNAP 3.8\\bin\\ITK-SNAP') #can open directly in application\n",
    "\n",
    "image_viewer.Execute(grid_image)\n"
   ]
  },
  {
   "cell_type": "code",
   "execution_count": 5,
   "metadata": {},
   "outputs": [
    {
     "name": "stdout",
     "output_type": "stream",
     "text": [
      "0.5866493459136697\n",
      "0.009011675115978297\n",
      "0.9909883248840217\n",
      "0.41335065408633026\n",
      "0.7353057299539931\n",
      "0.9848711350955935\n",
      "0.5866493459136697\n",
      "0.9909883248840217\n",
      "0.5814098690644375\n",
      "\n",
      "\n",
      "51482\n",
      "55269\n",
      "6077775\n",
      "36274\n"
     ]
    }
   ],
   "source": [
    "import SimpleITK as sitk\n",
    "import numpy as np\n",
    "\n",
    "r = sitk.ImageFileReader()\n",
    "r.SetFileName(r\"C:\\Users\\theev\\OneDrive\\Documents\\LAB\\Code\\3DUNetTest\\output\\mask.mha\")\n",
    "temp = r.Execute()\n",
    "\n",
    "mask = sitk.GetArrayFromImage(temp)\n",
    "\n",
    "r.SetFileName(r\"G:\\Shared drives\\INVent\\mfk58\\Dataset\\UH_Pre_Resampled\\RectalCA_133\\UH_RectalCA_133_pre_ax_raw_label_resampled.mha\")\n",
    "temp = r.Execute()\n",
    "\n",
    "def filterC(a,val):\n",
    "    arr = np.array(a)\n",
    "    arr[arr != val] = 0\n",
    "    return arr\n",
    "\n",
    "\n",
    "output = sitk.GetArrayFromImage(temp)\n",
    "output = filterC(output, 1)\n",
    "\n",
    "\n",
    "TP = (mask[output>0]>0).sum()/(output>0).sum()\n",
    "FP = (mask[output==0]>0).sum()/(output==0).sum()\n",
    "TN = (mask[output==0]==0).sum()/(output==0).sum()\n",
    "FN = (mask[output>0]==0).sum()/(output>0).sum()\n",
    "DS = 2*TP / (2*TP + FP + FN)\n",
    "Precision = TP/(TP+FP)\n",
    "Recall = TP/(TP+FN)\n",
    "SR = TN/(TN+FP) #specificity rate\n",
    "JI = TP/(TP+FN+FP) #Jaccard's index\n",
    "print(TP)\n",
    "print(FP)\n",
    "print(TN)\n",
    "print(FN)\n",
    "print(DS)\n",
    "print(Precision)\n",
    "print(Recall)\n",
    "print(SR)\n",
    "print(JI)\n",
    "\n",
    "print()\n",
    "print()\n",
    "\n",
    "print((mask[output>0]>0).sum())\n",
    "print((mask[output==0]>0).sum())\n",
    "print((mask[output==0]==0).sum())\n",
    "print((mask[output>0]==0).sum())"
   ]
  }
 ],
 "metadata": {
  "kernelspec": {
   "display_name": "Python 3",
   "language": "python",
   "name": "python3"
  },
  "language_info": {
   "codemirror_mode": {
    "name": "ipython",
    "version": 3
   },
   "file_extension": ".py",
   "mimetype": "text/x-python",
   "name": "python",
   "nbconvert_exporter": "python",
   "pygments_lexer": "ipython3",
   "version": "3.10.1"
  },
  "orig_nbformat": 4
 },
 "nbformat": 4,
 "nbformat_minor": 2
}
