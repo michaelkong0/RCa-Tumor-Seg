{
 "cells": [
  {
   "cell_type": "code",
   "execution_count": 6,
   "metadata": {},
   "outputs": [
    {
     "name": "stdout",
     "output_type": "stream",
     "text": [
      "Requirement already satisfied: scikit-learn in c:\\users\\theev\\appdata\\local\\programs\\python\\python310\\lib\\site-packages (1.2.2)\n",
      "Requirement already satisfied: numpy>=1.17.3 in c:\\users\\theev\\appdata\\local\\programs\\python\\python310\\lib\\site-packages (from scikit-learn) (1.21.6)\n",
      "Requirement already satisfied: scipy>=1.3.2 in c:\\users\\theev\\appdata\\local\\programs\\python\\python310\\lib\\site-packages (from scikit-learn) (1.10.1)\n",
      "Requirement already satisfied: joblib>=1.1.1 in c:\\users\\theev\\appdata\\local\\programs\\python\\python310\\lib\\site-packages (from scikit-learn) (1.2.0)\n",
      "Requirement already satisfied: threadpoolctl>=2.0.0 in c:\\users\\theev\\appdata\\local\\programs\\python\\python310\\lib\\site-packages (from scikit-learn) (3.1.0)\n",
      "Note: you may need to restart the kernel to use updated packages.\n",
      "Requirement already satisfied: hausdorff in c:\\users\\theev\\appdata\\local\\programs\\python\\python310\\lib\\site-packages (0.2.6)Note: you may need to restart the kernel to use updated packages.\n",
      "\n",
      "Requirement already satisfied: numba in c:\\users\\theev\\appdata\\local\\programs\\python\\python310\\lib\\site-packages (0.55.2)\n",
      "Requirement already satisfied: llvmlite<0.39,>=0.38.0rc1 in c:\\users\\theev\\appdata\\local\\programs\\python\\python310\\lib\\site-packages (from numba) (0.38.1)\n",
      "Requirement already satisfied: numpy<1.23,>=1.18 in c:\\users\\theev\\appdata\\local\\programs\\python\\python310\\lib\\site-packages (from numba) (1.21.6)\n",
      "Requirement already satisfied: setuptools in c:\\users\\theev\\appdata\\local\\programs\\python\\python310\\lib\\site-packages (from numba) (58.1.0)\n",
      "Note: you may need to restart the kernel to use updated packages.\n"
     ]
    }
   ],
   "source": [
    "%pip install scikit-learn\n",
    "%pip install numba"
   ]
  },
  {
   "cell_type": "code",
   "execution_count": 1,
   "metadata": {},
   "outputs": [
    {
     "name": "stdout",
     "output_type": "stream",
     "text": [
      "1.25.0\n",
      "c:\\Users\\theev\\AppData\\Local\\Programs\\Python\\Python310\\lib\\site-packages\\numpy\\__init__.py\n",
      "['c:\\\\Users\\\\theev\\\\AppData\\\\Local\\\\Programs\\\\Python\\\\Python310\\\\lib\\\\site-packages\\\\numpy']\n"
     ]
    }
   ],
   "source": [
    "import numpy\n",
    "print(numpy.__version__)\n",
    "print(numpy.__file__)\n",
    "print(numpy.__path__)"
   ]
  },
  {
   "cell_type": "code",
   "execution_count": 10,
   "metadata": {},
   "outputs": [
    {
     "name": "stdout",
     "output_type": "stream",
     "text": [
      "Collecting seg-metrics\n",
      "  Using cached seg_metrics-1.1.3-py3-none-any.whl (15 kB)\n",
      "Requirement already satisfied: pandas in c:\\users\\theev\\appdata\\local\\programs\\python\\python310\\lib\\site-packages (from seg-metrics) (2.0.2)\n",
      "Requirement already satisfied: numpy in c:\\users\\theev\\appdata\\local\\programs\\python\\python310\\lib\\site-packages (from seg-metrics) (1.25.0)\n",
      "Collecting coverage (from seg-metrics)\n",
      "  Using cached coverage-7.2.7-cp310-cp310-win_amd64.whl (204 kB)\n",
      "Collecting matplotlib (from seg-metrics)\n",
      "  Using cached matplotlib-3.7.1-cp310-cp310-win_amd64.whl (7.6 MB)\n",
      "Requirement already satisfied: parameterized in c:\\users\\theev\\appdata\\local\\programs\\python\\python310\\lib\\site-packages (from seg-metrics) (0.9.0)\n",
      "Requirement already satisfied: tqdm in c:\\users\\theev\\appdata\\local\\programs\\python\\python310\\lib\\site-packages (from seg-metrics) (4.65.0)\n",
      "Collecting medutils (from seg-metrics)\n",
      "  Using cached medutils-0.1.21-py3-none-any.whl (7.7 kB)\n",
      "Requirement already satisfied: PySimpleGUI in c:\\users\\theev\\appdata\\local\\programs\\python\\python310\\lib\\site-packages (from seg-metrics) (4.60.5)\n",
      "Requirement already satisfied: SimpleITK in c:\\users\\theev\\appdata\\local\\programs\\python\\python310\\lib\\site-packages (from seg-metrics) (2.2.1)\n",
      "Collecting contourpy>=1.0.1 (from matplotlib->seg-metrics)\n",
      "  Using cached contourpy-1.1.0-cp310-cp310-win_amd64.whl (470 kB)\n",
      "Collecting cycler>=0.10 (from matplotlib->seg-metrics)\n",
      "  Using cached cycler-0.11.0-py3-none-any.whl (6.4 kB)\n",
      "Collecting fonttools>=4.22.0 (from matplotlib->seg-metrics)\n",
      "  Using cached fonttools-4.40.0-cp310-cp310-win_amd64.whl (1.9 MB)\n",
      "Collecting kiwisolver>=1.0.1 (from matplotlib->seg-metrics)\n",
      "  Using cached kiwisolver-1.4.4-cp310-cp310-win_amd64.whl (55 kB)\n",
      "Requirement already satisfied: packaging>=20.0 in c:\\users\\theev\\appdata\\roaming\\python\\python310\\site-packages (from matplotlib->seg-metrics) (23.0)\n",
      "Requirement already satisfied: pillow>=6.2.0 in c:\\users\\theev\\appdata\\local\\programs\\python\\python310\\lib\\site-packages (from matplotlib->seg-metrics) (9.5.0)\n",
      "Requirement already satisfied: pyparsing>=2.3.1 in c:\\users\\theev\\appdata\\local\\programs\\python\\python310\\lib\\site-packages (from matplotlib->seg-metrics) (3.1.0)\n",
      "Requirement already satisfied: python-dateutil>=2.7 in c:\\users\\theev\\appdata\\roaming\\python\\python310\\site-packages (from matplotlib->seg-metrics) (2.8.2)\n",
      "Collecting pingouin (from medutils->seg-metrics)\n",
      "  Using cached pingouin-0.5.3-py3-none-any.whl (198 kB)\n",
      "Requirement already satisfied: pytz>=2020.1 in c:\\users\\theev\\appdata\\local\\programs\\python\\python310\\lib\\site-packages (from pandas->seg-metrics) (2023.3)\n",
      "Requirement already satisfied: tzdata>=2022.1 in c:\\users\\theev\\appdata\\local\\programs\\python\\python310\\lib\\site-packages (from pandas->seg-metrics) (2023.3)\n",
      "Requirement already satisfied: colorama in c:\\users\\theev\\appdata\\roaming\\python\\python310\\site-packages (from tqdm->seg-metrics) (0.4.6)\n",
      "Requirement already satisfied: six>=1.5 in c:\\users\\theev\\appdata\\roaming\\python\\python310\\site-packages (from python-dateutil>=2.7->matplotlib->seg-metrics) (1.16.0)\n",
      "Requirement already satisfied: scipy>=1.7 in c:\\users\\theev\\appdata\\local\\programs\\python\\python310\\lib\\site-packages (from pingouin->medutils->seg-metrics) (1.10.1)\n",
      "Collecting seaborn>=0.11 (from pingouin->medutils->seg-metrics)\n",
      "  Using cached seaborn-0.12.2-py3-none-any.whl (293 kB)\n",
      "Collecting statsmodels>=0.13 (from pingouin->medutils->seg-metrics)\n",
      "  Using cached statsmodels-0.14.0-cp310-cp310-win_amd64.whl (9.2 MB)\n",
      "Requirement already satisfied: scikit-learn in c:\\users\\theev\\appdata\\local\\programs\\python\\python310\\lib\\site-packages (from pingouin->medutils->seg-metrics) (1.2.2)\n",
      "Collecting pandas-flavor>=0.2.0 (from pingouin->medutils->seg-metrics)\n",
      "  Using cached pandas_flavor-0.5.0-py3-none-any.whl (7.1 kB)\n",
      "Collecting outdated (from pingouin->medutils->seg-metrics)\n",
      "  Using cached outdated-0.2.2-py2.py3-none-any.whl (7.5 kB)\n",
      "Requirement already satisfied: tabulate in c:\\users\\theev\\appdata\\local\\programs\\python\\python310\\lib\\site-packages (from pingouin->medutils->seg-metrics) (0.9.0)\n",
      "Collecting xarray (from pandas-flavor>=0.2.0->pingouin->medutils->seg-metrics)\n",
      "  Using cached xarray-2023.5.0-py3-none-any.whl (994 kB)\n",
      "Requirement already satisfied: lazy-loader>=0.1 in c:\\users\\theev\\appdata\\local\\programs\\python\\python310\\lib\\site-packages (from pandas-flavor>=0.2.0->pingouin->medutils->seg-metrics) (0.2)\n",
      "Collecting patsy>=0.5.2 (from statsmodels>=0.13->pingouin->medutils->seg-metrics)\n",
      "  Using cached patsy-0.5.3-py2.py3-none-any.whl (233 kB)\n",
      "Requirement already satisfied: setuptools>=44 in c:\\users\\theev\\appdata\\local\\programs\\python\\python310\\lib\\site-packages (from outdated->pingouin->medutils->seg-metrics) (58.1.0)\n",
      "Requirement already satisfied: littleutils in c:\\users\\theev\\appdata\\local\\programs\\python\\python310\\lib\\site-packages (from outdated->pingouin->medutils->seg-metrics) (0.2.2)\n",
      "Requirement already satisfied: requests in c:\\users\\theev\\appdata\\local\\programs\\python\\python310\\lib\\site-packages (from outdated->pingouin->medutils->seg-metrics) (2.28.1)\n",
      "Requirement already satisfied: joblib>=1.1.1 in c:\\users\\theev\\appdata\\local\\programs\\python\\python310\\lib\\site-packages (from scikit-learn->pingouin->medutils->seg-metrics) (1.2.0)\n",
      "Requirement already satisfied: threadpoolctl>=2.0.0 in c:\\users\\theev\\appdata\\local\\programs\\python\\python310\\lib\\site-packages (from scikit-learn->pingouin->medutils->seg-metrics) (3.1.0)\n",
      "Requirement already satisfied: charset-normalizer<3,>=2 in c:\\users\\theev\\appdata\\local\\programs\\python\\python310\\lib\\site-packages (from requests->outdated->pingouin->medutils->seg-metrics) (2.1.1)\n",
      "Requirement already satisfied: idna<4,>=2.5 in c:\\users\\theev\\appdata\\local\\programs\\python\\python310\\lib\\site-packages (from requests->outdated->pingouin->medutils->seg-metrics) (3.4)\n",
      "Requirement already satisfied: urllib3<1.27,>=1.21.1 in c:\\users\\theev\\appdata\\local\\programs\\python\\python310\\lib\\site-packages (from requests->outdated->pingouin->medutils->seg-metrics) (1.26.13)\n",
      "Requirement already satisfied: certifi>=2017.4.17 in c:\\users\\theev\\appdata\\local\\programs\\python\\python310\\lib\\site-packages (from requests->outdated->pingouin->medutils->seg-metrics) (2022.12.7)\n",
      "Installing collected packages: patsy, kiwisolver, fonttools, cycler, coverage, contourpy, outdated, matplotlib, xarray, statsmodels, seaborn, pandas-flavor, pingouin, medutils, seg-metrics\n",
      "Successfully installed contourpy-1.1.0 coverage-7.2.7 cycler-0.11.0 fonttools-4.40.0 kiwisolver-1.4.4 matplotlib-3.7.1 medutils-0.1.21 outdated-0.2.2 pandas-flavor-0.5.0 patsy-0.5.3 pingouin-0.5.3 seaborn-0.12.2 seg-metrics-1.1.3 statsmodels-0.14.0 xarray-2023.5.0\n",
      "Note: you may need to restart the kernel to use updated packages.\n"
     ]
    }
   ],
   "source": [
    "%pip install seg-metrics --user"
   ]
  },
  {
   "cell_type": "code",
   "execution_count": 5,
   "metadata": {},
   "outputs": [
    {
     "name": "stdout",
     "output_type": "stream",
     "text": [
      "C:\\Users\\theev\\OneDrive\\Documents\\LAB\\Code\\3DUNetTest\\output\n"
     ]
    }
   ],
   "source": [
    "%cd C:\\Users\\theev\\OneDrive\\Documents\\LAB\\Code\\3DUNetTest\\output"
   ]
  },
  {
   "cell_type": "code",
   "execution_count": 13,
   "metadata": {},
   "outputs": [
    {
     "name": "stdout",
     "output_type": "stream",
     "text": [
      "Requirement already satisfied: numpy in c:\\users\\theev\\appdata\\local\\programs\\python\\python310\\lib\\site-packages (1.25.0)\n",
      "Note: you may need to restart the kernel to use updated packages.\n"
     ]
    }
   ],
   "source": [
    "%pip install --upgrade numpy"
   ]
  },
  {
   "cell_type": "code",
   "execution_count": 11,
   "metadata": {},
   "outputs": [
    {
     "name": "stderr",
     "output_type": "stream",
     "text": [
      "Process mask.mha ...: : 1it [00:00,  1.86it/s]\n"
     ]
    }
   ],
   "source": [
    "import seg_metrics.seg_metrics as sg\n",
    "labels = [0,1]\n",
    "gdth_file = r'C:\\Users\\theev\\OneDrive\\Documents\\LAB\\Code\\3DUNetTest\\output\\ground\\UH_RectalCA_133_pre_ax_raw_label_resampled.mha'  # ground truth image full path\n",
    "pred_file = r'C:\\Users\\theev\\OneDrive\\Documents\\LAB\\Code\\3DUNetTest\\output\\output\\mask.mha'  # prediction image full path\n",
    "csv_file = 'metrics.csv'\n",
    "\n",
    "metrics = sg.write_metrics(labels=labels[0:1],  # exclude background\n",
    "                  gdth_path=gdth_file,\n",
    "                  pred_path=pred_file,\n",
    "                  csv_file=csv_file)"
   ]
  }
 ],
 "metadata": {
  "kernelspec": {
   "display_name": "Python 3",
   "language": "python",
   "name": "python3"
  },
  "language_info": {
   "codemirror_mode": {
    "name": "ipython",
    "version": 3
   },
   "file_extension": ".py",
   "mimetype": "text/x-python",
   "name": "python",
   "nbconvert_exporter": "python",
   "pygments_lexer": "ipython3",
   "version": "3.10.1"
  },
  "orig_nbformat": 4
 },
 "nbformat": 4,
 "nbformat_minor": 2
}
