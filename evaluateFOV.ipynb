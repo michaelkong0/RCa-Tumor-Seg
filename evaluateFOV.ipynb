{
 "cells": [
  {
   "cell_type": "code",
   "execution_count": 14,
   "metadata": {},
   "outputs": [
    {
     "name": "stdout",
     "output_type": "stream",
     "text": [
      "G:\\Shared drives\\INVent\\mfk58\\Dataset\n",
      "Requirement already satisfied: numpy in c:\\users\\theev\\appdata\\local\\programs\\python\\python310\\lib\\site-packages (1.24.3)\n",
      "Note: you may need to restart the kernel to use updated packages.\n"
     ]
    },
    {
     "name": "stderr",
     "output_type": "stream",
     "text": [
      "WARNING: You are using pip version 21.2.4; however, version 23.1.2 is available.\n",
      "You should consider upgrading via the 'c:\\Users\\theev\\AppData\\Local\\Programs\\Python\\Python310\\python.exe -m pip install --upgrade pip' command.\n"
     ]
    },
    {
     "name": "stdout",
     "output_type": "stream",
     "text": [
      "Requirement already satisfied: SimpleITK in c:\\users\\theev\\appdata\\local\\programs\\python\\python310\\lib\\site-packages (2.2.1)\n",
      "Note: you may need to restart the kernel to use updated packages.\n"
     ]
    },
    {
     "name": "stderr",
     "output_type": "stream",
     "text": [
      "WARNING: You are using pip version 21.2.4; however, version 23.1.2 is available.\n",
      "You should consider upgrading via the 'c:\\Users\\theev\\AppData\\Local\\Programs\\Python\\Python310\\python.exe -m pip install --upgrade pip' command.\n"
     ]
    }
   ],
   "source": [
    "%cd  G:\\Shared drives\\INVent\\mfk58\\Dataset\\\n",
    "\n",
    "%pip install numpy\n",
    "%pip install SimpleITK"
   ]
  },
  {
   "cell_type": "code",
   "execution_count": 15,
   "metadata": {},
   "outputs": [],
   "source": [
    "import glob\n",
    "import SimpleITK as sitk\n",
    "import numpy as np\n",
    "def hasMask(name):\n",
    "    files = glob.glob(name+\"/*.mha\")\n",
    "\n",
    "    reader = sitk.ImageFileReader()\n",
    "\n",
    "    if(len(files)<2):\n",
    "        return False\n",
    "\n",
    "    reader.SetFileName(files[0])\n",
    "    reader.LoadPrivateTagsOn()\n",
    "    reader.ReadImageInformation()\n",
    "\n",
    "    size1 = reader.GetSize()  \n",
    "    res1 = reader.GetSpacing() \n",
    "\n",
    "    \n",
    "    reader.SetFileName(files[1])\n",
    "    reader.LoadPrivateTagsOn()\n",
    "    reader.ReadImageInformation()\n",
    "\n",
    "    size2 = reader.GetSize()  \n",
    "    res2 = reader.GetSpacing()\n",
    "    \n",
    "    if not (size1 == size2 and res2 == res2):\n",
    "        return False\n",
    "\n",
    "\n",
    "    return True\n",
    "\n",
    "def axial(name):\n",
    "    files = glob.glob(name+\"/*.mha\")\n",
    "    if(\"ax\" in files[0] and \"ax\" in files[1]):\n",
    "        return True\n",
    "    return False\n",
    "\n",
    "\n",
    "\n",
    "CCF_count = 0\n",
    "\n",
    "CCF_missing = [] #missing masks\n",
    "CCF_list = []\n",
    "\n",
    "for name in glob.glob('G:/Shared drives/INVent/mfk58/Dataset/CCF_Pre_Resampled/*'):\n",
    "    \n",
    "    if not (hasMask(name)):\n",
    "        CCF_missing.append(name)\n",
    "        continue\n",
    "    if axial(name):\n",
    "        CCF_count +=1\n",
    "        CCF_list.append(name)\n",
    "    \n",
    "\n",
    "UH_count = 0\n",
    "\n",
    "UH_missing = [] #missing masks\n",
    "UH_list = []\n",
    "\n",
    "for name in glob.glob('G:/Shared drives/INVent/mfk58/Dataset/UH_Pre_Resampled/*'):\n",
    "    \n",
    "\n",
    "    if not (hasMask(name)):\n",
    "        UH_missing.append(name)\n",
    "        continue\n",
    "    if axial(name):\n",
    "        UH_count +=1\n",
    "        UH_list.append(name)\n",
    "\n",
    "comList = CCF_list+UH_list"
   ]
  },
  {
   "cell_type": "code",
   "execution_count": 16,
   "metadata": {},
   "outputs": [],
   "source": [
    "def get_bounding_box(x):\n",
    "    \"\"\" Calculates the bounding box of a ndarray\"\"\"\n",
    "    mask = x == 0\n",
    "    bbox = []\n",
    "    all_axis = np.arange(x.ndim)\n",
    "    for kdim in all_axis:\n",
    "        nk_dim = np.delete(all_axis, kdim)\n",
    "        mask_i = mask.all(axis=tuple(nk_dim))\n",
    "        dmask_i = np.diff(mask_i)\n",
    "        idx_i = np.nonzero(dmask_i)[0]\n",
    "        \n",
    "        bbox.append(slice(min(idx_i)+1, max(idx_i)+1))\n",
    "    return bbox\n",
    "\n",
    "\n",
    "def filterA(a,val):\n",
    "    arr = a\n",
    "    arr[arr != val] = 0\n",
    "    return arr"
   ]
  },
  {
   "cell_type": "code",
   "execution_count": 17,
   "metadata": {},
   "outputs": [],
   "source": [
    "assert len(comList) == 166\n",
    "\n",
    "\n",
    "excl = []\n",
    "\n",
    "FOV5p = []\n",
    "FOV8p = []\n",
    "FOV10p = []\n",
    "FOV12p = []\n",
    "FOV15p  =[]\n",
    "FOV17p =[]\n",
    "FOV20p = []\n",
    "\n",
    "for name in comList:\n",
    "    #print(\"running \" +name)\n",
    "    files = glob.glob(name+\"/*.mha\")\n",
    "    if not (\"ax\" in files[0] and \"ax\" in files[1]):\n",
    "        continue\n",
    "    for file in files:\n",
    "        if not (\"label\" in file):\n",
    "            continue\n",
    "\n",
    "        if file in excl:\n",
    "            continue\n",
    "\n",
    "        image = sitk.ReadImage(file, imageIO=\"MetaImageIO\")\n",
    "        arr = sitk.GetArrayFromImage(image)\n",
    "\n",
    "        img_size = arr.shape\n",
    "\n",
    "        #arr = filterA(arr,1)\n",
    "        \n",
    "        bbx = get_bounding_box(arr)\n",
    "        \n",
    "        arr = arr[bbx[0].start:bbx[0].stop,bbx[1].start:bbx[1].stop,bbx[2].start:bbx[2].stop]\n",
    "        size = arr.shape\n",
    "        \n",
    "        if (size[1]*size[2]) < (0.05*(img_size[1]*img_size[2])):\n",
    "            FOV5p.append(name)\n",
    "        elif (size[1]*size[2]) < (0.08*(img_size[1]*img_size[2])):\n",
    "            FOV8p.append(name)\n",
    "        elif (size[1]*size[2]) < (0.10*(img_size[1]*img_size[2])):\n",
    "            FOV10p.append(name)\n",
    "        elif (size[1]*size[2]) < (0.12*(img_size[1]*img_size[2])):\n",
    "            FOV12p.append(name)\n",
    "        elif (size[1]*size[2]) < (0.15*(img_size[1]*img_size[2])):\n",
    "            FOV15p.append(name)\n",
    "        elif (size[1]*size[2]) < (0.17*(img_size[1]*img_size[2])):\n",
    "            FOV17p.append(name)\n",
    "        elif (size[1]*size[2]) < (0.20*(img_size[1]*img_size[2])):\n",
    "            FOV20p.append(name)\n",
    "        \n",
    "\n",
    "\n",
    "        "
   ]
  },
  {
   "cell_type": "code",
   "execution_count": 37,
   "metadata": {},
   "outputs": [
    {
     "name": "stdout",
     "output_type": "stream",
     "text": [
      "11\n",
      "20\n",
      "36\n",
      "57\n",
      "88\n",
      "105\n",
      "122\n"
     ]
    }
   ],
   "source": [
    "print(len(FOV5p))\n",
    "print(len(FOV5p+FOV8p))\n",
    "print(len(FOV5p+FOV8p+FOV10p))\n",
    "print(len(FOV5p+FOV8p+FOV10p+FOV12p))\n",
    "print(len(FOV5p+FOV8p+FOV10p+FOV12p+FOV15p))\n",
    "print(len(FOV5p+FOV8p+FOV10p+FOV12p+FOV15p+FOV17p))\n",
    "print(len(FOV5p+FOV8p+FOV10p+FOV12p+FOV15p+FOV17p+FOV20p))\n",
    "largeFOV = []"
   ]
  },
  {
   "cell_type": "code",
   "execution_count": 35,
   "metadata": {},
   "outputs": [],
   "source": [
    "import SimpleITK as sitk\n",
    "import os\n",
    "\n",
    "\n",
    "#Try to use absolute paths as much as possible\n",
    "\n",
    "#img: string with filepath to main image\n",
    "#mask: string with filepath to segmentation\n",
    "#labeldir: string with filepath to labels\n",
    "#tempdir: string with filepath that you don't mind having a random file be written to, defaults to just C: - good idea to change it\n",
    "    #labeldir and tempdir must be in the main C: drive - workarounds were made to use img and mask with G: drive for convenience\n",
    "def display(img, mask,labeldir,tempdir=\"C:\\\\\",name=\"temp viewer\"):\n",
    "    v = sitk.ImageViewer()\n",
    "    r = sitk.ImageFileReader()\n",
    "    r.SetFileName(img)\n",
    "    image = r.Execute()\n",
    "\n",
    "    r.SetFileName(mask)\n",
    "    w = sitk.ImageFileWriter()\n",
    "    \n",
    "    os.chdir(tempdir)\n",
    "    w.SetFileName(\"temp.mha\")\n",
    "    w.Execute(r.Execute())\n",
    "\n",
    "    v.SetApplication(r'C:\\Program Files\\ITK-SNAP 3.8\\bin\\ITK-SNAP')\n",
    "    s = \"\"\n",
    "    if labeldir != None:\n",
    "        s = ' -l '+ labeldir\n",
    "    v.SetCommand('itk-snap -s '+ tempdir + '\\\\temp.mha' + s + \" -g\") #this requires the ITK-SNAP directory to be added to the PATH env var.\n",
    "    v.SetTitle(name)\n",
    "    v.Execute(image)\n",
    "    \n"
   ]
  },
  {
   "cell_type": "code",
   "execution_count": 36,
   "metadata": {},
   "outputs": [
    {
     "name": "stdout",
     "output_type": "stream",
     "text": [
      "\n"
     ]
    },
    {
     "ename": "KeyboardInterrupt",
     "evalue": "Interrupted by user",
     "output_type": "error",
     "traceback": [
      "\u001b[1;31m---------------------------------------------------------------------------\u001b[0m",
      "\u001b[1;31mKeyboardInterrupt\u001b[0m                         Traceback (most recent call last)",
      "Cell \u001b[1;32mIn[36], line 17\u001b[0m\n\u001b[0;32m     14\u001b[0m display(img, label, \u001b[39m\"\u001b[39m\u001b[39mC:\u001b[39m\u001b[39m\\\\\u001b[39;00m\u001b[39mUsers\u001b[39m\u001b[39m\\\\\u001b[39;00m\u001b[39mtheev\u001b[39m\u001b[39m\\\\\u001b[39;00m\u001b[39mDownloads\u001b[39m\u001b[39m\\\\\u001b[39;00m\u001b[39mRectal_Data_Labels.label\u001b[39m\u001b[39m\"\u001b[39m, \u001b[39m\"\u001b[39m\u001b[39mC:\u001b[39m\u001b[39m\\\\\u001b[39;00m\u001b[39mUsers\u001b[39m\u001b[39m\\\\\u001b[39;00m\u001b[39mtheev\u001b[39m\u001b[39m\\\\\u001b[39;00m\u001b[39mDocuments\u001b[39m\u001b[39m\\\\\u001b[39;00m\u001b[39mLAB\u001b[39m\u001b[39m\"\u001b[39m,img\u001b[39m.\u001b[39msplit(\u001b[39m\"\u001b[39m\u001b[39m\\\\\u001b[39;00m\u001b[39m\"\u001b[39m)[\u001b[39m-\u001b[39m\u001b[39m1\u001b[39m])\n\u001b[0;32m     16\u001b[0m \u001b[39mprint\u001b[39m(\u001b[39m\"\u001b[39m\u001b[39m\"\u001b[39m)\n\u001b[1;32m---> 17\u001b[0m ans \u001b[39m=\u001b[39m \u001b[39minput\u001b[39;49m(\u001b[39m\"\u001b[39;49m\u001b[39mLarge? y/n\u001b[39;49m\u001b[39m\"\u001b[39;49m)\n\u001b[0;32m     18\u001b[0m \u001b[39mif\u001b[39;00m ans \u001b[39m==\u001b[39m \u001b[39m\"\u001b[39m\u001b[39my\u001b[39m\u001b[39m\"\u001b[39m:\n\u001b[0;32m     19\u001b[0m     largeFOV\u001b[39m.\u001b[39mappend(\u001b[39mdir\u001b[39m)\n",
      "File \u001b[1;32m~\\AppData\\Roaming\\Python\\Python310\\site-packages\\ipykernel\\kernelbase.py:1182\u001b[0m, in \u001b[0;36mKernel.raw_input\u001b[1;34m(self, prompt)\u001b[0m\n\u001b[0;32m   1180\u001b[0m     msg \u001b[39m=\u001b[39m \u001b[39m\"\u001b[39m\u001b[39mraw_input was called, but this frontend does not support input requests.\u001b[39m\u001b[39m\"\u001b[39m\n\u001b[0;32m   1181\u001b[0m     \u001b[39mraise\u001b[39;00m StdinNotImplementedError(msg)\n\u001b[1;32m-> 1182\u001b[0m \u001b[39mreturn\u001b[39;00m \u001b[39mself\u001b[39;49m\u001b[39m.\u001b[39;49m_input_request(\n\u001b[0;32m   1183\u001b[0m     \u001b[39mstr\u001b[39;49m(prompt),\n\u001b[0;32m   1184\u001b[0m     \u001b[39mself\u001b[39;49m\u001b[39m.\u001b[39;49m_parent_ident[\u001b[39m\"\u001b[39;49m\u001b[39mshell\u001b[39;49m\u001b[39m\"\u001b[39;49m],\n\u001b[0;32m   1185\u001b[0m     \u001b[39mself\u001b[39;49m\u001b[39m.\u001b[39;49mget_parent(\u001b[39m\"\u001b[39;49m\u001b[39mshell\u001b[39;49m\u001b[39m\"\u001b[39;49m),\n\u001b[0;32m   1186\u001b[0m     password\u001b[39m=\u001b[39;49m\u001b[39mFalse\u001b[39;49;00m,\n\u001b[0;32m   1187\u001b[0m )\n",
      "File \u001b[1;32m~\\AppData\\Roaming\\Python\\Python310\\site-packages\\ipykernel\\kernelbase.py:1225\u001b[0m, in \u001b[0;36mKernel._input_request\u001b[1;34m(self, prompt, ident, parent, password)\u001b[0m\n\u001b[0;32m   1222\u001b[0m \u001b[39mexcept\u001b[39;00m \u001b[39mKeyboardInterrupt\u001b[39;00m:\n\u001b[0;32m   1223\u001b[0m     \u001b[39m# re-raise KeyboardInterrupt, to truncate traceback\u001b[39;00m\n\u001b[0;32m   1224\u001b[0m     msg \u001b[39m=\u001b[39m \u001b[39m\"\u001b[39m\u001b[39mInterrupted by user\u001b[39m\u001b[39m\"\u001b[39m\n\u001b[1;32m-> 1225\u001b[0m     \u001b[39mraise\u001b[39;00m \u001b[39mKeyboardInterrupt\u001b[39;00m(msg) \u001b[39mfrom\u001b[39;00m \u001b[39mNone\u001b[39m\n\u001b[0;32m   1226\u001b[0m \u001b[39mexcept\u001b[39;00m \u001b[39mException\u001b[39;00m:\n\u001b[0;32m   1227\u001b[0m     \u001b[39mself\u001b[39m\u001b[39m.\u001b[39mlog\u001b[39m.\u001b[39mwarning(\u001b[39m\"\u001b[39m\u001b[39mInvalid Message:\u001b[39m\u001b[39m\"\u001b[39m, exc_info\u001b[39m=\u001b[39m\u001b[39mTrue\u001b[39;00m)\n",
      "\u001b[1;31mKeyboardInterrupt\u001b[0m: Interrupted by user"
     ]
    }
   ],
   "source": [
    "list = FOV5p\n",
    "\n",
    "for dir in list:\n",
    "    files = glob.glob(dir+\"/*.mha\")\n",
    "    label =\"\"\n",
    "    img = \"\"\n",
    "    if \"label\" in files[0]:\n",
    "        label = files[0]\n",
    "        img = files[1]\n",
    "    else:\n",
    "        label = files[1]\n",
    "        img = files[0]\n",
    "\n",
    "    display(img, label, \"C:\\\\Users\\\\theev\\\\Downloads\\\\Rectal_Data_Labels.label\", \"C:\\\\Users\\\\theev\\\\Documents\\\\LAB\",img.split(\"\\\\\")[-1])\n",
    "\n",
    "    print(\"\")\n",
    "    ans = input(\"Large? y/n\")\n",
    "    if ans == \"y\":\n",
    "        largeFOV.append(dir)\n"
   ]
  },
  {
   "cell_type": "code",
   "execution_count": null,
   "metadata": {},
   "outputs": [
    {
     "name": "stdout",
     "output_type": "stream",
     "text": [
      "[WinError 2] The system cannot find the file specified: '/D G:\\\\'\n",
      "G:\\Shared drives\\INVent\\mfk58\\Dataset\n"
     ]
    }
   ],
   "source": []
  }
 ],
 "metadata": {
  "kernelspec": {
   "display_name": "Python 3",
   "language": "python",
   "name": "python3"
  },
  "language_info": {
   "codemirror_mode": {
    "name": "ipython",
    "version": 3
   },
   "file_extension": ".py",
   "mimetype": "text/x-python",
   "name": "python",
   "nbconvert_exporter": "python",
   "pygments_lexer": "ipython3",
   "version": "3.10.1"
  },
  "orig_nbformat": 4
 },
 "nbformat": 4,
 "nbformat_minor": 2
}
