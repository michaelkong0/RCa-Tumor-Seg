{
 "cells": [
  {
   "cell_type": "code",
   "execution_count": 1,
   "metadata": {},
   "outputs": [
    {
     "name": "stdout",
     "output_type": "stream",
     "text": [
      "Collecting medviz\n",
      "  Downloading medviz-0.9.2-py3-none-any.whl (47 kB)\n",
      "                                              0.0/47.1 kB ? eta -:--:--\n",
      "     ---------------------------------------- 47.1/47.1 kB 2.3 MB/s eta 0:00:00\n",
      "Requirement already satisfied: numpy>=1.19.5 in c:\\users\\theev\\appdata\\local\\programs\\python\\python310\\lib\\site-packages (from medviz) (1.25.0)\n",
      "Requirement already satisfied: pandas>=1.2.4 in c:\\users\\theev\\appdata\\local\\programs\\python\\python310\\lib\\site-packages (from medviz) (2.0.2)\n",
      "Requirement already satisfied: matplotlib>=3.3.4 in c:\\users\\theev\\appdata\\roaming\\python\\python310\\site-packages (from medviz) (3.7.1)\n",
      "Requirement already satisfied: nibabel>=3.2.1 in c:\\users\\theev\\appdata\\local\\programs\\python\\python310\\lib\\site-packages (from medviz) (5.1.0)\n",
      "Requirement already satisfied: imageio>=2.9.0 in c:\\users\\theev\\appdata\\local\\programs\\python\\python310\\lib\\site-packages (from medviz) (2.31.1)\n",
      "Requirement already satisfied: scikit-image>=0.18.3 in c:\\users\\theev\\appdata\\local\\programs\\python\\python310\\lib\\site-packages (from medviz) (0.21.0)\n",
      "Requirement already satisfied: tabulate>=0.8.9 in c:\\users\\theev\\appdata\\local\\programs\\python\\python310\\lib\\site-packages (from medviz) (0.9.0)\n",
      "Requirement already satisfied: pydicom>=2.1.2 in c:\\users\\theev\\appdata\\local\\programs\\python\\python310\\lib\\site-packages (from medviz) (2.4.1)\n",
      "Collecting mahotas>=1.4.11 (from medviz)\n",
      "  Downloading mahotas-1.4.13-cp310-cp310-win_amd64.whl (1.7 MB)\n",
      "                                              0.0/1.7 MB ? eta -:--:--\n",
      "     --------                                 0.4/1.7 MB 7.4 MB/s eta 0:00:01\n",
      "     ---------------------------------------  1.7/1.7 MB 18.2 MB/s eta 0:00:01\n",
      "     ---------------------------------------- 1.7/1.7 MB 18.3 MB/s eta 0:00:00\n",
      "Requirement already satisfied: pillow>=8.3.2 in c:\\users\\theev\\appdata\\local\\programs\\python\\python310\\lib\\site-packages (from imageio>=2.9.0->medviz) (9.5.0)\n",
      "Requirement already satisfied: contourpy>=1.0.1 in c:\\users\\theev\\appdata\\roaming\\python\\python310\\site-packages (from matplotlib>=3.3.4->medviz) (1.1.0)\n",
      "Requirement already satisfied: cycler>=0.10 in c:\\users\\theev\\appdata\\roaming\\python\\python310\\site-packages (from matplotlib>=3.3.4->medviz) (0.11.0)\n",
      "Requirement already satisfied: fonttools>=4.22.0 in c:\\users\\theev\\appdata\\roaming\\python\\python310\\site-packages (from matplotlib>=3.3.4->medviz) (4.40.0)\n",
      "Requirement already satisfied: kiwisolver>=1.0.1 in c:\\users\\theev\\appdata\\roaming\\python\\python310\\site-packages (from matplotlib>=3.3.4->medviz) (1.4.4)\n",
      "Requirement already satisfied: packaging>=20.0 in c:\\users\\theev\\appdata\\roaming\\python\\python310\\site-packages (from matplotlib>=3.3.4->medviz) (23.0)\n",
      "Requirement already satisfied: pyparsing>=2.3.1 in c:\\users\\theev\\appdata\\local\\programs\\python\\python310\\lib\\site-packages (from matplotlib>=3.3.4->medviz) (3.1.0)\n",
      "Requirement already satisfied: python-dateutil>=2.7 in c:\\users\\theev\\appdata\\roaming\\python\\python310\\site-packages (from matplotlib>=3.3.4->medviz) (2.8.2)\n",
      "Requirement already satisfied: pytz>=2020.1 in c:\\users\\theev\\appdata\\local\\programs\\python\\python310\\lib\\site-packages (from pandas>=1.2.4->medviz) (2023.3)\n",
      "Requirement already satisfied: tzdata>=2022.1 in c:\\users\\theev\\appdata\\local\\programs\\python\\python310\\lib\\site-packages (from pandas>=1.2.4->medviz) (2023.3)\n",
      "Requirement already satisfied: scipy>=1.8 in c:\\users\\theev\\appdata\\local\\programs\\python\\python310\\lib\\site-packages (from scikit-image>=0.18.3->medviz) (1.10.1)\n",
      "Requirement already satisfied: networkx>=2.8 in c:\\users\\theev\\appdata\\local\\programs\\python\\python310\\lib\\site-packages (from scikit-image>=0.18.3->medviz) (3.0rc1)\n",
      "Requirement already satisfied: tifffile>=2022.8.12 in c:\\users\\theev\\appdata\\local\\programs\\python\\python310\\lib\\site-packages (from scikit-image>=0.18.3->medviz) (2023.4.12)\n",
      "Requirement already satisfied: PyWavelets>=1.1.1 in c:\\users\\theev\\appdata\\local\\programs\\python\\python310\\lib\\site-packages (from scikit-image>=0.18.3->medviz) (1.4.1)\n",
      "Requirement already satisfied: lazy_loader>=0.2 in c:\\users\\theev\\appdata\\local\\programs\\python\\python310\\lib\\site-packages (from scikit-image>=0.18.3->medviz) (0.2)\n",
      "Requirement already satisfied: six>=1.5 in c:\\users\\theev\\appdata\\roaming\\python\\python310\\site-packages (from python-dateutil>=2.7->matplotlib>=3.3.4->medviz) (1.16.0)\n",
      "Installing collected packages: mahotas, medviz\n",
      "Successfully installed mahotas-1.4.13 medviz-0.9.2\n",
      "Note: you may need to restart the kernel to use updated packages.\n"
     ]
    }
   ],
   "source": [
    "%pip install medviz"
   ]
  },
  {
   "cell_type": "code",
   "execution_count": 6,
   "metadata": {},
   "outputs": [
    {
     "ename": "AttributeError",
     "evalue": "module 'medviz' has no attribute 'gif'",
     "output_type": "error",
     "traceback": [
      "\u001b[1;31m---------------------------------------------------------------------------\u001b[0m",
      "\u001b[1;31mAttributeError\u001b[0m                            Traceback (most recent call last)",
      "Cell \u001b[1;32mIn[6], line 3\u001b[0m\n\u001b[0;32m      1\u001b[0m \u001b[39mimport\u001b[39;00m \u001b[39mmedviz\u001b[39;00m \u001b[39mas\u001b[39;00m \u001b[39mviz\u001b[39;00m\n\u001b[1;32m----> 3\u001b[0m viz\u001b[39m.\u001b[39;49mgif()\n",
      "\u001b[1;31mAttributeError\u001b[0m: module 'medviz' has no attribute 'gif'"
     ]
    }
   ],
   "source": [
    "import medviz as viz\n",
    "\n",
    "viz.gif()"
   ]
  }
 ],
 "metadata": {
  "kernelspec": {
   "display_name": "Python 3",
   "language": "python",
   "name": "python3"
  },
  "language_info": {
   "codemirror_mode": {
    "name": "ipython",
    "version": 3
   },
   "file_extension": ".py",
   "mimetype": "text/x-python",
   "name": "python",
   "nbconvert_exporter": "python",
   "pygments_lexer": "ipython3",
   "version": "3.10.1"
  },
  "orig_nbformat": 4
 },
 "nbformat": 4,
 "nbformat_minor": 2
}
